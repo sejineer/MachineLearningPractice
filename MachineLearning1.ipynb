{
 "cells": [
  {
   "cell_type": "markdown",
   "source": [
    "### 60192193 박세진 Homework 1\n",
    "\n",
    "먼저 선형회귀 모델을 만들기 위한 라이브러리들을 모두 import 해주겠습니다."
   ],
   "metadata": {
    "collapsed": false
   }
  },
  {
   "cell_type": "code",
   "execution_count": 49,
   "outputs": [],
   "source": [
    "import numpy as np\n",
    "import pandas as pd\n",
    "import matplotlib.pyplot as plt\n",
    "from sklearn import  linear_model"
   ],
   "metadata": {
    "collapsed": false,
    "ExecuteTime": {
     "start_time": "2023-04-23T03:39:58.134402Z",
     "end_time": "2023-04-23T03:39:58.304084Z"
    }
   }
  },
  {
   "cell_type": "markdown",
   "source": [
    "초기설정을 해주겠습니다."
   ],
   "metadata": {
    "collapsed": false
   }
  },
  {
   "cell_type": "code",
   "execution_count": 50,
   "outputs": [],
   "source": [
    "# 동일한 실행 결과를 얻기 위한 랜덤 시드 설정\n",
    "np.random.seed(42)\n",
    "\n",
    "#그래프 출력 설정\n",
    "plt.rc('font', size=12)\n",
    "plt.rc('axes', labelsize=14, titlesize=14)\n",
    "plt.rc('legend', fontsize=12)\n",
    "plt.rc('xtick', labelsize=10)\n",
    "plt.rc('ytick', labelsize=10)"
   ],
   "metadata": {
    "collapsed": false,
    "ExecuteTime": {
     "start_time": "2023-04-23T03:39:58.153353Z",
     "end_time": "2023-04-23T03:39:58.391854Z"
    }
   }
  },
  {
   "cell_type": "markdown",
   "source": [
    "먼저 GDP 데이터를 가져오도록 하겠습니다. <br>\n",
    "2015년 한국의 1인당 GDP 값이 결측치이기 때문에 이 데이터프레임을 다른 변수에 복사한 뒤<br>\n",
    "2010~2014년 한국의 1인당 GDP 평균을 구할 때 재사용하도록 하겠습니다.\n"
   ],
   "metadata": {
    "collapsed": false
   }
  },
  {
   "cell_type": "code",
   "execution_count": 51,
   "outputs": [
    {
     "data": {
      "text/plain": "           Entity Code  Year   \n0     Afghanistan  AFG  2002  \\\n1     Afghanistan  AFG  2003   \n2     Afghanistan  AFG  2004   \n3     Afghanistan  AFG  2005   \n4     Afghanistan  AFG  2006   \n...           ...  ...   ...   \n7104     Zimbabwe  ZWE  2016   \n7105     Zimbabwe  ZWE  2017   \n7106     Zimbabwe  ZWE  2018   \n7107     Zimbabwe  ZWE  2019   \n7108     Zimbabwe  ZWE  2020   \n\n      GDP per capita, PPP (constant 2017 international $)  \n0                                           1189.784668    \n1                                           1235.810063    \n2                                           1200.278013    \n3                                           1286.793659    \n4                                           1315.789117    \n...                                                 ...    \n7104                                        3173.610829    \n7105                                        3274.611198    \n7106                                        3341.665418    \n7107                                        3027.656038    \n7108                                        2744.690758    \n\n[7109 rows x 4 columns]",
      "text/html": "<div>\n<style scoped>\n    .dataframe tbody tr th:only-of-type {\n        vertical-align: middle;\n    }\n\n    .dataframe tbody tr th {\n        vertical-align: top;\n    }\n\n    .dataframe thead th {\n        text-align: right;\n    }\n</style>\n<table border=\"1\" class=\"dataframe\">\n  <thead>\n    <tr style=\"text-align: right;\">\n      <th></th>\n      <th>Entity</th>\n      <th>Code</th>\n      <th>Year</th>\n      <th>GDP per capita, PPP (constant 2017 international $)</th>\n    </tr>\n  </thead>\n  <tbody>\n    <tr>\n      <th>0</th>\n      <td>Afghanistan</td>\n      <td>AFG</td>\n      <td>2002</td>\n      <td>1189.784668</td>\n    </tr>\n    <tr>\n      <th>1</th>\n      <td>Afghanistan</td>\n      <td>AFG</td>\n      <td>2003</td>\n      <td>1235.810063</td>\n    </tr>\n    <tr>\n      <th>2</th>\n      <td>Afghanistan</td>\n      <td>AFG</td>\n      <td>2004</td>\n      <td>1200.278013</td>\n    </tr>\n    <tr>\n      <th>3</th>\n      <td>Afghanistan</td>\n      <td>AFG</td>\n      <td>2005</td>\n      <td>1286.793659</td>\n    </tr>\n    <tr>\n      <th>4</th>\n      <td>Afghanistan</td>\n      <td>AFG</td>\n      <td>2006</td>\n      <td>1315.789117</td>\n    </tr>\n    <tr>\n      <th>...</th>\n      <td>...</td>\n      <td>...</td>\n      <td>...</td>\n      <td>...</td>\n    </tr>\n    <tr>\n      <th>7104</th>\n      <td>Zimbabwe</td>\n      <td>ZWE</td>\n      <td>2016</td>\n      <td>3173.610829</td>\n    </tr>\n    <tr>\n      <th>7105</th>\n      <td>Zimbabwe</td>\n      <td>ZWE</td>\n      <td>2017</td>\n      <td>3274.611198</td>\n    </tr>\n    <tr>\n      <th>7106</th>\n      <td>Zimbabwe</td>\n      <td>ZWE</td>\n      <td>2018</td>\n      <td>3341.665418</td>\n    </tr>\n    <tr>\n      <th>7107</th>\n      <td>Zimbabwe</td>\n      <td>ZWE</td>\n      <td>2019</td>\n      <td>3027.656038</td>\n    </tr>\n    <tr>\n      <th>7108</th>\n      <td>Zimbabwe</td>\n      <td>ZWE</td>\n      <td>2020</td>\n      <td>2744.690758</td>\n    </tr>\n  </tbody>\n</table>\n<p>7109 rows × 4 columns</p>\n</div>"
     },
     "execution_count": 51,
     "metadata": {},
     "output_type": "execute_result"
    }
   ],
   "source": [
    "gdp_per_capita_url = \"https://drive.google.com/file/d/1-IBuM27Yjveq7TcdgxUE3jKYA_5E5BND/view?usp=sharing\"\n",
    "gdp_per_capita_filepath = \"https://drive.google.com/uc?id=\" + gdp_per_capita_url.split('/')[-2]\n",
    "gdp_per_capita = pd.read_csv(gdp_per_capita_filepath,\n",
    "                             thousands=',',\n",
    "                             encoding='latin1',\n",
    "                             na_values=\"n/a\")\n",
    "copy_gdp_per_capita = gdp_per_capita\n",
    "gdp_per_capita"
   ],
   "metadata": {
    "collapsed": false,
    "ExecuteTime": {
     "start_time": "2023-04-23T03:39:58.167982Z",
     "end_time": "2023-04-23T03:39:59.506611Z"
    }
   }
  },
  {
   "cell_type": "markdown",
   "source": [
    "국가별 1인당 GDP 데이터에서 2015년 데이터만 추려내도록 하겠습니다."
   ],
   "metadata": {
    "collapsed": false
   }
  },
  {
   "cell_type": "code",
   "execution_count": 52,
   "outputs": [
    {
     "data": {
      "text/plain": "                           Entity      Code  Year   \n13                    Afghanistan       AFG  2015  \\\n44    Africa Eastern and Southern       NaN  2015   \n75     Africa Western and Central       NaN  2015   \n106                       Albania       ALB  2015   \n137                       Algeria       DZA  2015   \n...                           ...       ...   ...   \n6979                      Vanuatu       VUT  2015   \n7010                      Vietnam       VNM  2015   \n7041                        World  OWID_WRL  2015   \n7072                       Zambia       ZMB  2015   \n7103                     Zimbabwe       ZWE  2015   \n\n      GDP per capita, PPP (constant 2017 international $)  \n13                                          2068.265904    \n44                                          3549.480563    \n75                                          4202.057923    \n106                                        11878.488093    \n137                                        11696.965229    \n...                                                 ...    \n6979                                        2915.700460    \n7010                                        6438.259854    \n7041                                       15509.996467    \n7072                                        3443.553254    \n7103                                        3198.982129    \n\n[240 rows x 4 columns]",
      "text/html": "<div>\n<style scoped>\n    .dataframe tbody tr th:only-of-type {\n        vertical-align: middle;\n    }\n\n    .dataframe tbody tr th {\n        vertical-align: top;\n    }\n\n    .dataframe thead th {\n        text-align: right;\n    }\n</style>\n<table border=\"1\" class=\"dataframe\">\n  <thead>\n    <tr style=\"text-align: right;\">\n      <th></th>\n      <th>Entity</th>\n      <th>Code</th>\n      <th>Year</th>\n      <th>GDP per capita, PPP (constant 2017 international $)</th>\n    </tr>\n  </thead>\n  <tbody>\n    <tr>\n      <th>13</th>\n      <td>Afghanistan</td>\n      <td>AFG</td>\n      <td>2015</td>\n      <td>2068.265904</td>\n    </tr>\n    <tr>\n      <th>44</th>\n      <td>Africa Eastern and Southern</td>\n      <td>NaN</td>\n      <td>2015</td>\n      <td>3549.480563</td>\n    </tr>\n    <tr>\n      <th>75</th>\n      <td>Africa Western and Central</td>\n      <td>NaN</td>\n      <td>2015</td>\n      <td>4202.057923</td>\n    </tr>\n    <tr>\n      <th>106</th>\n      <td>Albania</td>\n      <td>ALB</td>\n      <td>2015</td>\n      <td>11878.488093</td>\n    </tr>\n    <tr>\n      <th>137</th>\n      <td>Algeria</td>\n      <td>DZA</td>\n      <td>2015</td>\n      <td>11696.965229</td>\n    </tr>\n    <tr>\n      <th>...</th>\n      <td>...</td>\n      <td>...</td>\n      <td>...</td>\n      <td>...</td>\n    </tr>\n    <tr>\n      <th>6979</th>\n      <td>Vanuatu</td>\n      <td>VUT</td>\n      <td>2015</td>\n      <td>2915.700460</td>\n    </tr>\n    <tr>\n      <th>7010</th>\n      <td>Vietnam</td>\n      <td>VNM</td>\n      <td>2015</td>\n      <td>6438.259854</td>\n    </tr>\n    <tr>\n      <th>7041</th>\n      <td>World</td>\n      <td>OWID_WRL</td>\n      <td>2015</td>\n      <td>15509.996467</td>\n    </tr>\n    <tr>\n      <th>7072</th>\n      <td>Zambia</td>\n      <td>ZMB</td>\n      <td>2015</td>\n      <td>3443.553254</td>\n    </tr>\n    <tr>\n      <th>7103</th>\n      <td>Zimbabwe</td>\n      <td>ZWE</td>\n      <td>2015</td>\n      <td>3198.982129</td>\n    </tr>\n  </tbody>\n</table>\n<p>240 rows × 4 columns</p>\n</div>"
     },
     "execution_count": 52,
     "metadata": {},
     "output_type": "execute_result"
    }
   ],
   "source": [
    "mask_gdp_2015 = gdp_per_capita[\"Year\"] == 2015\n",
    "gdp_per_capita = gdp_per_capita[mask_gdp_2015]\n",
    "gdp_per_capita"
   ],
   "metadata": {
    "collapsed": false,
    "ExecuteTime": {
     "start_time": "2023-04-23T03:39:59.507608Z",
     "end_time": "2023-04-23T03:39:59.521570Z"
    }
   }
  },
  {
   "cell_type": "markdown",
   "source": [
    "국가별 1인당 GDP 데이터 내용중 \"Code\"와 \"Year\" 열은 필요하지 않기 때문에 삭제하겠습니다"
   ],
   "metadata": {
    "collapsed": false
   }
  },
  {
   "cell_type": "code",
   "execution_count": 53,
   "outputs": [
    {
     "data": {
      "text/plain": "                           Entity   \n13                    Afghanistan  \\\n44    Africa Eastern and Southern   \n75     Africa Western and Central   \n106                       Albania   \n137                       Algeria   \n...                           ...   \n6979                      Vanuatu   \n7010                      Vietnam   \n7041                        World   \n7072                       Zambia   \n7103                     Zimbabwe   \n\n      GDP per capita, PPP (constant 2017 international $)  \n13                                          2068.265904    \n44                                          3549.480563    \n75                                          4202.057923    \n106                                        11878.488093    \n137                                        11696.965229    \n...                                                 ...    \n6979                                        2915.700460    \n7010                                        6438.259854    \n7041                                       15509.996467    \n7072                                        3443.553254    \n7103                                        3198.982129    \n\n[240 rows x 2 columns]",
      "text/html": "<div>\n<style scoped>\n    .dataframe tbody tr th:only-of-type {\n        vertical-align: middle;\n    }\n\n    .dataframe tbody tr th {\n        vertical-align: top;\n    }\n\n    .dataframe thead th {\n        text-align: right;\n    }\n</style>\n<table border=\"1\" class=\"dataframe\">\n  <thead>\n    <tr style=\"text-align: right;\">\n      <th></th>\n      <th>Entity</th>\n      <th>GDP per capita, PPP (constant 2017 international $)</th>\n    </tr>\n  </thead>\n  <tbody>\n    <tr>\n      <th>13</th>\n      <td>Afghanistan</td>\n      <td>2068.265904</td>\n    </tr>\n    <tr>\n      <th>44</th>\n      <td>Africa Eastern and Southern</td>\n      <td>3549.480563</td>\n    </tr>\n    <tr>\n      <th>75</th>\n      <td>Africa Western and Central</td>\n      <td>4202.057923</td>\n    </tr>\n    <tr>\n      <th>106</th>\n      <td>Albania</td>\n      <td>11878.488093</td>\n    </tr>\n    <tr>\n      <th>137</th>\n      <td>Algeria</td>\n      <td>11696.965229</td>\n    </tr>\n    <tr>\n      <th>...</th>\n      <td>...</td>\n      <td>...</td>\n    </tr>\n    <tr>\n      <th>6979</th>\n      <td>Vanuatu</td>\n      <td>2915.700460</td>\n    </tr>\n    <tr>\n      <th>7010</th>\n      <td>Vietnam</td>\n      <td>6438.259854</td>\n    </tr>\n    <tr>\n      <th>7041</th>\n      <td>World</td>\n      <td>15509.996467</td>\n    </tr>\n    <tr>\n      <th>7072</th>\n      <td>Zambia</td>\n      <td>3443.553254</td>\n    </tr>\n    <tr>\n      <th>7103</th>\n      <td>Zimbabwe</td>\n      <td>3198.982129</td>\n    </tr>\n  </tbody>\n</table>\n<p>240 rows × 2 columns</p>\n</div>"
     },
     "execution_count": 53,
     "metadata": {},
     "output_type": "execute_result"
    }
   ],
   "source": [
    "gdp_per_capita = gdp_per_capita.drop([\"Code\", \"Year\"], axis=1)\n",
    "gdp_per_capita"
   ],
   "metadata": {
    "collapsed": false,
    "ExecuteTime": {
     "start_time": "2023-04-23T03:39:59.521570Z",
     "end_time": "2023-04-23T03:39:59.565301Z"
    }
   }
  },
  {
   "cell_type": "markdown",
   "source": [
    "1인당 GDP 데이터에서는 국가명 South Korea가 사용되며, 삶의 만족도 데이터에서는 국가명으로 Korea가 사용된다. <br>\n",
    "동일한 국가명으로 맞춰주기 위해 1인당 GDP 데이터의 South Korea를 Korea로 변경해주겠습니다."
   ],
   "metadata": {
    "collapsed": false
   }
  },
  {
   "cell_type": "code",
   "execution_count": 54,
   "outputs": [
    {
     "data": {
      "text/plain": "     Entity  GDP per capita, PPP (constant 2017 international $)\n6083  Korea                                                NaN  ",
      "text/html": "<div>\n<style scoped>\n    .dataframe tbody tr th:only-of-type {\n        vertical-align: middle;\n    }\n\n    .dataframe tbody tr th {\n        vertical-align: top;\n    }\n\n    .dataframe thead th {\n        text-align: right;\n    }\n</style>\n<table border=\"1\" class=\"dataframe\">\n  <thead>\n    <tr style=\"text-align: right;\">\n      <th></th>\n      <th>Entity</th>\n      <th>GDP per capita, PPP (constant 2017 international $)</th>\n    </tr>\n  </thead>\n  <tbody>\n    <tr>\n      <th>6083</th>\n      <td>Korea</td>\n      <td>NaN</td>\n    </tr>\n  </tbody>\n</table>\n</div>"
     },
     "execution_count": 54,
     "metadata": {},
     "output_type": "execute_result"
    }
   ],
   "source": [
    "gdp_per_capita.loc[gdp_per_capita[\"Entity\"] == \"South Korea\", \"Entity\"] = \"Korea\"\n",
    "gdp_per_capita.loc[gdp_per_capita[\"Entity\"] == \"Korea\"]"
   ],
   "metadata": {
    "collapsed": false,
    "ExecuteTime": {
     "start_time": "2023-04-23T03:39:59.537529Z",
     "end_time": "2023-04-23T03:39:59.639723Z"
    }
   }
  },
  {
   "cell_type": "markdown",
   "source": [
    "1인당 GDP 데이터 테이블 각 열(column)의 인덱스를 다음과 같이 변경해주겠습니다."
   ],
   "metadata": {
    "collapsed": false
   }
  },
  {
   "cell_type": "code",
   "execution_count": 55,
   "outputs": [
    {
     "data": {
      "text/plain": "                          Country  GDP per capita (USD)\n13                    Afghanistan           2068.265904\n44    Africa Eastern and Southern           3549.480563\n75     Africa Western and Central           4202.057923\n106                       Albania          11878.488093\n137                       Algeria          11696.965229\n...                           ...                   ...\n6979                      Vanuatu           2915.700460\n7010                      Vietnam           6438.259854\n7041                        World          15509.996467\n7072                       Zambia           3443.553254\n7103                     Zimbabwe           3198.982129\n\n[240 rows x 2 columns]",
      "text/html": "<div>\n<style scoped>\n    .dataframe tbody tr th:only-of-type {\n        vertical-align: middle;\n    }\n\n    .dataframe tbody tr th {\n        vertical-align: top;\n    }\n\n    .dataframe thead th {\n        text-align: right;\n    }\n</style>\n<table border=\"1\" class=\"dataframe\">\n  <thead>\n    <tr style=\"text-align: right;\">\n      <th></th>\n      <th>Country</th>\n      <th>GDP per capita (USD)</th>\n    </tr>\n  </thead>\n  <tbody>\n    <tr>\n      <th>13</th>\n      <td>Afghanistan</td>\n      <td>2068.265904</td>\n    </tr>\n    <tr>\n      <th>44</th>\n      <td>Africa Eastern and Southern</td>\n      <td>3549.480563</td>\n    </tr>\n    <tr>\n      <th>75</th>\n      <td>Africa Western and Central</td>\n      <td>4202.057923</td>\n    </tr>\n    <tr>\n      <th>106</th>\n      <td>Albania</td>\n      <td>11878.488093</td>\n    </tr>\n    <tr>\n      <th>137</th>\n      <td>Algeria</td>\n      <td>11696.965229</td>\n    </tr>\n    <tr>\n      <th>...</th>\n      <td>...</td>\n      <td>...</td>\n    </tr>\n    <tr>\n      <th>6979</th>\n      <td>Vanuatu</td>\n      <td>2915.700460</td>\n    </tr>\n    <tr>\n      <th>7010</th>\n      <td>Vietnam</td>\n      <td>6438.259854</td>\n    </tr>\n    <tr>\n      <th>7041</th>\n      <td>World</td>\n      <td>15509.996467</td>\n    </tr>\n    <tr>\n      <th>7072</th>\n      <td>Zambia</td>\n      <td>3443.553254</td>\n    </tr>\n    <tr>\n      <th>7103</th>\n      <td>Zimbabwe</td>\n      <td>3198.982129</td>\n    </tr>\n  </tbody>\n</table>\n<p>240 rows × 2 columns</p>\n</div>"
     },
     "execution_count": 55,
     "metadata": {},
     "output_type": "execute_result"
    }
   ],
   "source": [
    "gdp_per_capita.columns = [\"Country\", \"GDP per capita (USD)\"]\n",
    "gdp_per_capita"
   ],
   "metadata": {
    "collapsed": false,
    "ExecuteTime": {
     "start_time": "2023-04-23T03:39:59.552335Z",
     "end_time": "2023-04-23T03:39:59.647702Z"
    }
   }
  },
  {
   "cell_type": "markdown",
   "source": [
    "2015년의 Korea 1인당 GDP 지수가 결측값이기 때문에 <br>\n",
    "2010년~2014년 South Korea의 1인당 GDP 값의 median으로 채우겠습니다. <br>\n",
    "아까 복사해 놓은 copy 데이터들을 활용하겠습니다."
   ],
   "metadata": {
    "collapsed": false
   }
  },
  {
   "cell_type": "code",
   "execution_count": 56,
   "outputs": [
    {
     "data": {
      "text/plain": "36049.1934873539"
     },
     "execution_count": 56,
     "metadata": {},
     "output_type": "execute_result"
    }
   ],
   "source": [
    "korea_mask = copy_gdp_per_capita[\"Entity\"] == \"South Korea\" #한국 데이터들만 가져오기\n",
    "copy_gdp_per_capita = copy_gdp_per_capita[korea_mask]\n",
    "\n",
    "year_mask = (copy_gdp_per_capita[\"Year\"] >= 2010) & (copy_gdp_per_capita[\"Year\"] <= 2014) #2010 ~ 2014년 데아터만 가져오기\n",
    "copy_gdp_per_capita = copy_gdp_per_capita[year_mask]\n",
    "\n",
    "gdps = copy_gdp_per_capita[\"GDP per capita, PPP (constant 2017 international $)\"].values # GDP Value 들만 추출 후 numpy의 median 함수로 중간값 구하기\n",
    "median = np.median(gdps)\n",
    "median"
   ],
   "metadata": {
    "collapsed": false,
    "ExecuteTime": {
     "start_time": "2023-04-23T03:39:59.567295Z",
     "end_time": "2023-04-23T03:39:59.663677Z"
    }
   }
  },
  {
   "cell_type": "markdown",
   "source": [
    "2010~2014년의 한국 1인당 GDP를 구했으니 이를 원본 데이터에 넣어주겠습니다."
   ],
   "metadata": {
    "collapsed": false
   }
  },
  {
   "cell_type": "code",
   "execution_count": 57,
   "outputs": [
    {
     "data": {
      "text/plain": "     Country  GDP per capita (USD)\n6083   Korea          36049.193487",
      "text/html": "<div>\n<style scoped>\n    .dataframe tbody tr th:only-of-type {\n        vertical-align: middle;\n    }\n\n    .dataframe tbody tr th {\n        vertical-align: top;\n    }\n\n    .dataframe thead th {\n        text-align: right;\n    }\n</style>\n<table border=\"1\" class=\"dataframe\">\n  <thead>\n    <tr style=\"text-align: right;\">\n      <th></th>\n      <th>Country</th>\n      <th>GDP per capita (USD)</th>\n    </tr>\n  </thead>\n  <tbody>\n    <tr>\n      <th>6083</th>\n      <td>Korea</td>\n      <td>36049.193487</td>\n    </tr>\n  </tbody>\n</table>\n</div>"
     },
     "execution_count": 57,
     "metadata": {},
     "output_type": "execute_result"
    }
   ],
   "source": [
    "gdp_per_capita.loc[gdp_per_capita[\"Country\"] == \"Korea\", \"GDP per capita (USD)\"] = median # 2015년 한국 1인당 GDP 열에 median 데이터 입력\n",
    "gdp_per_capita.loc[gdp_per_capita[\"Country\"] == \"Korea\"]"
   ],
   "metadata": {
    "collapsed": false,
    "ExecuteTime": {
     "start_time": "2023-04-23T03:39:59.583251Z",
     "end_time": "2023-04-23T03:39:59.708539Z"
    }
   }
  },
  {
   "cell_type": "markdown",
   "source": [
    "데이터 입력이 완료되었으니 국가명을 행 인덱스로 지정하겠습니다. 총 240개 국가의 1인당 GDP정보를 담고있습니다. <br>\n",
    "inplace=True를 사용해서 set_index 실행 결과로 gdp_per_capita 데이터프레임 자체가 업데이트 되도록 하겠습니다."
   ],
   "metadata": {
    "collapsed": false
   }
  },
  {
   "cell_type": "code",
   "execution_count": 58,
   "outputs": [
    {
     "data": {
      "text/plain": "                             GDP per capita (USD)\nCountry                                          \nAfghanistan                           2068.265904\nAfrica Eastern and Southern           3549.480563\nAfrica Western and Central            4202.057923\nAlbania                              11878.488093\nAlgeria                              11696.965229\n...                                           ...\nVanuatu                               2915.700460\nVietnam                               6438.259854\nWorld                                15509.996467\nZambia                                3443.553254\nZimbabwe                              3198.982129\n\n[240 rows x 1 columns]",
      "text/html": "<div>\n<style scoped>\n    .dataframe tbody tr th:only-of-type {\n        vertical-align: middle;\n    }\n\n    .dataframe tbody tr th {\n        vertical-align: top;\n    }\n\n    .dataframe thead th {\n        text-align: right;\n    }\n</style>\n<table border=\"1\" class=\"dataframe\">\n  <thead>\n    <tr style=\"text-align: right;\">\n      <th></th>\n      <th>GDP per capita (USD)</th>\n    </tr>\n    <tr>\n      <th>Country</th>\n      <th></th>\n    </tr>\n  </thead>\n  <tbody>\n    <tr>\n      <th>Afghanistan</th>\n      <td>2068.265904</td>\n    </tr>\n    <tr>\n      <th>Africa Eastern and Southern</th>\n      <td>3549.480563</td>\n    </tr>\n    <tr>\n      <th>Africa Western and Central</th>\n      <td>4202.057923</td>\n    </tr>\n    <tr>\n      <th>Albania</th>\n      <td>11878.488093</td>\n    </tr>\n    <tr>\n      <th>Algeria</th>\n      <td>11696.965229</td>\n    </tr>\n    <tr>\n      <th>...</th>\n      <td>...</td>\n    </tr>\n    <tr>\n      <th>Vanuatu</th>\n      <td>2915.700460</td>\n    </tr>\n    <tr>\n      <th>Vietnam</th>\n      <td>6438.259854</td>\n    </tr>\n    <tr>\n      <th>World</th>\n      <td>15509.996467</td>\n    </tr>\n    <tr>\n      <th>Zambia</th>\n      <td>3443.553254</td>\n    </tr>\n    <tr>\n      <th>Zimbabwe</th>\n      <td>3198.982129</td>\n    </tr>\n  </tbody>\n</table>\n<p>240 rows × 1 columns</p>\n</div>"
     },
     "execution_count": 58,
     "metadata": {},
     "output_type": "execute_result"
    }
   ],
   "source": [
    "gdp_per_capita.set_index(\"Country\", inplace=True)\n",
    "gdp_per_capita"
   ],
   "metadata": {
    "collapsed": false,
    "ExecuteTime": {
     "start_time": "2023-04-23T03:39:59.597214Z",
     "end_time": "2023-04-23T03:39:59.737966Z"
    }
   }
  },
  {
   "cell_type": "markdown",
   "source": [
    "다음으로 OECD 국가별 삶의 만족도 데이터를 가져오도록 하겠습니다."
   ],
   "metadata": {
    "collapsed": false
   }
  },
  {
   "cell_type": "code",
   "execution_count": 59,
   "outputs": [
    {
     "data": {
      "text/plain": "     LOCATION         Country INDICATOR   \n0         AUS       Australia   HO_BASE  \\\n1         AUT         Austria   HO_BASE   \n2         BEL         Belgium   HO_BASE   \n3         CAN          Canada   HO_BASE   \n4         CZE  Czech Republic   HO_BASE   \n...       ...             ...       ...   \n3287      EST         Estonia   WL_TNOW   \n3288      ISR          Israel   WL_TNOW   \n3289      RUS          Russia   WL_TNOW   \n3290      SVN        Slovenia   WL_TNOW   \n3291     OECD    OECD - Total   WL_TNOW   \n\n                                      Indicator MEASURE Measure INEQUALITY   \n0            Dwellings without basic facilities       L   Value        TOT  \\\n1            Dwellings without basic facilities       L   Value        TOT   \n2            Dwellings without basic facilities       L   Value        TOT   \n3            Dwellings without basic facilities       L   Value        TOT   \n4            Dwellings without basic facilities       L   Value        TOT   \n...                                         ...     ...     ...        ...   \n3287  Time devoted to leisure and personal care       L   Value        WMN   \n3288  Time devoted to leisure and personal care       L   Value        WMN   \n3289  Time devoted to leisure and personal care       L   Value        WMN   \n3290  Time devoted to leisure and personal care       L   Value        WMN   \n3291  Time devoted to leisure and personal care       L   Value        WMN   \n\n     Inequality Unit Code        Unit  PowerCode Code PowerCode   \n0         Total        PC  Percentage               0     units  \\\n1         Total        PC  Percentage               0     units   \n2         Total        PC  Percentage               0     units   \n3         Total        PC  Percentage               0     units   \n4         Total        PC  Percentage               0     units   \n...         ...       ...         ...             ...       ...   \n3287      Women      HOUR       Hours               0     units   \n3288      Women      HOUR       Hours               0     units   \n3289      Women      HOUR       Hours               0     units   \n3290      Women      HOUR       Hours               0     units   \n3291      Women      HOUR       Hours               0     units   \n\n      Reference Period Code  Reference Period  Value Flag Codes   \n0                       NaN               NaN   1.10          E  \\\n1                       NaN               NaN   1.00        NaN   \n2                       NaN               NaN   2.00        NaN   \n3                       NaN               NaN   0.20        NaN   \n4                       NaN               NaN   0.90        NaN   \n...                     ...               ...    ...        ...   \n3287                    NaN               NaN  14.43        NaN   \n3288                    NaN               NaN  14.24          E   \n3289                    NaN               NaN  14.75          E   \n3290                    NaN               NaN  14.12        NaN   \n3291                    NaN               NaN  14.74        NaN   \n\n                Flags  \n0     Estimated value  \n1                 NaN  \n2                 NaN  \n3                 NaN  \n4                 NaN  \n...               ...  \n3287              NaN  \n3288  Estimated value  \n3289  Estimated value  \n3290              NaN  \n3291              NaN  \n\n[3292 rows x 17 columns]",
      "text/html": "<div>\n<style scoped>\n    .dataframe tbody tr th:only-of-type {\n        vertical-align: middle;\n    }\n\n    .dataframe tbody tr th {\n        vertical-align: top;\n    }\n\n    .dataframe thead th {\n        text-align: right;\n    }\n</style>\n<table border=\"1\" class=\"dataframe\">\n  <thead>\n    <tr style=\"text-align: right;\">\n      <th></th>\n      <th>LOCATION</th>\n      <th>Country</th>\n      <th>INDICATOR</th>\n      <th>Indicator</th>\n      <th>MEASURE</th>\n      <th>Measure</th>\n      <th>INEQUALITY</th>\n      <th>Inequality</th>\n      <th>Unit Code</th>\n      <th>Unit</th>\n      <th>PowerCode Code</th>\n      <th>PowerCode</th>\n      <th>Reference Period Code</th>\n      <th>Reference Period</th>\n      <th>Value</th>\n      <th>Flag Codes</th>\n      <th>Flags</th>\n    </tr>\n  </thead>\n  <tbody>\n    <tr>\n      <th>0</th>\n      <td>AUS</td>\n      <td>Australia</td>\n      <td>HO_BASE</td>\n      <td>Dwellings without basic facilities</td>\n      <td>L</td>\n      <td>Value</td>\n      <td>TOT</td>\n      <td>Total</td>\n      <td>PC</td>\n      <td>Percentage</td>\n      <td>0</td>\n      <td>units</td>\n      <td>NaN</td>\n      <td>NaN</td>\n      <td>1.10</td>\n      <td>E</td>\n      <td>Estimated value</td>\n    </tr>\n    <tr>\n      <th>1</th>\n      <td>AUT</td>\n      <td>Austria</td>\n      <td>HO_BASE</td>\n      <td>Dwellings without basic facilities</td>\n      <td>L</td>\n      <td>Value</td>\n      <td>TOT</td>\n      <td>Total</td>\n      <td>PC</td>\n      <td>Percentage</td>\n      <td>0</td>\n      <td>units</td>\n      <td>NaN</td>\n      <td>NaN</td>\n      <td>1.00</td>\n      <td>NaN</td>\n      <td>NaN</td>\n    </tr>\n    <tr>\n      <th>2</th>\n      <td>BEL</td>\n      <td>Belgium</td>\n      <td>HO_BASE</td>\n      <td>Dwellings without basic facilities</td>\n      <td>L</td>\n      <td>Value</td>\n      <td>TOT</td>\n      <td>Total</td>\n      <td>PC</td>\n      <td>Percentage</td>\n      <td>0</td>\n      <td>units</td>\n      <td>NaN</td>\n      <td>NaN</td>\n      <td>2.00</td>\n      <td>NaN</td>\n      <td>NaN</td>\n    </tr>\n    <tr>\n      <th>3</th>\n      <td>CAN</td>\n      <td>Canada</td>\n      <td>HO_BASE</td>\n      <td>Dwellings without basic facilities</td>\n      <td>L</td>\n      <td>Value</td>\n      <td>TOT</td>\n      <td>Total</td>\n      <td>PC</td>\n      <td>Percentage</td>\n      <td>0</td>\n      <td>units</td>\n      <td>NaN</td>\n      <td>NaN</td>\n      <td>0.20</td>\n      <td>NaN</td>\n      <td>NaN</td>\n    </tr>\n    <tr>\n      <th>4</th>\n      <td>CZE</td>\n      <td>Czech Republic</td>\n      <td>HO_BASE</td>\n      <td>Dwellings without basic facilities</td>\n      <td>L</td>\n      <td>Value</td>\n      <td>TOT</td>\n      <td>Total</td>\n      <td>PC</td>\n      <td>Percentage</td>\n      <td>0</td>\n      <td>units</td>\n      <td>NaN</td>\n      <td>NaN</td>\n      <td>0.90</td>\n      <td>NaN</td>\n      <td>NaN</td>\n    </tr>\n    <tr>\n      <th>...</th>\n      <td>...</td>\n      <td>...</td>\n      <td>...</td>\n      <td>...</td>\n      <td>...</td>\n      <td>...</td>\n      <td>...</td>\n      <td>...</td>\n      <td>...</td>\n      <td>...</td>\n      <td>...</td>\n      <td>...</td>\n      <td>...</td>\n      <td>...</td>\n      <td>...</td>\n      <td>...</td>\n      <td>...</td>\n    </tr>\n    <tr>\n      <th>3287</th>\n      <td>EST</td>\n      <td>Estonia</td>\n      <td>WL_TNOW</td>\n      <td>Time devoted to leisure and personal care</td>\n      <td>L</td>\n      <td>Value</td>\n      <td>WMN</td>\n      <td>Women</td>\n      <td>HOUR</td>\n      <td>Hours</td>\n      <td>0</td>\n      <td>units</td>\n      <td>NaN</td>\n      <td>NaN</td>\n      <td>14.43</td>\n      <td>NaN</td>\n      <td>NaN</td>\n    </tr>\n    <tr>\n      <th>3288</th>\n      <td>ISR</td>\n      <td>Israel</td>\n      <td>WL_TNOW</td>\n      <td>Time devoted to leisure and personal care</td>\n      <td>L</td>\n      <td>Value</td>\n      <td>WMN</td>\n      <td>Women</td>\n      <td>HOUR</td>\n      <td>Hours</td>\n      <td>0</td>\n      <td>units</td>\n      <td>NaN</td>\n      <td>NaN</td>\n      <td>14.24</td>\n      <td>E</td>\n      <td>Estimated value</td>\n    </tr>\n    <tr>\n      <th>3289</th>\n      <td>RUS</td>\n      <td>Russia</td>\n      <td>WL_TNOW</td>\n      <td>Time devoted to leisure and personal care</td>\n      <td>L</td>\n      <td>Value</td>\n      <td>WMN</td>\n      <td>Women</td>\n      <td>HOUR</td>\n      <td>Hours</td>\n      <td>0</td>\n      <td>units</td>\n      <td>NaN</td>\n      <td>NaN</td>\n      <td>14.75</td>\n      <td>E</td>\n      <td>Estimated value</td>\n    </tr>\n    <tr>\n      <th>3290</th>\n      <td>SVN</td>\n      <td>Slovenia</td>\n      <td>WL_TNOW</td>\n      <td>Time devoted to leisure and personal care</td>\n      <td>L</td>\n      <td>Value</td>\n      <td>WMN</td>\n      <td>Women</td>\n      <td>HOUR</td>\n      <td>Hours</td>\n      <td>0</td>\n      <td>units</td>\n      <td>NaN</td>\n      <td>NaN</td>\n      <td>14.12</td>\n      <td>NaN</td>\n      <td>NaN</td>\n    </tr>\n    <tr>\n      <th>3291</th>\n      <td>OECD</td>\n      <td>OECD - Total</td>\n      <td>WL_TNOW</td>\n      <td>Time devoted to leisure and personal care</td>\n      <td>L</td>\n      <td>Value</td>\n      <td>WMN</td>\n      <td>Women</td>\n      <td>HOUR</td>\n      <td>Hours</td>\n      <td>0</td>\n      <td>units</td>\n      <td>NaN</td>\n      <td>NaN</td>\n      <td>14.74</td>\n      <td>NaN</td>\n      <td>NaN</td>\n    </tr>\n  </tbody>\n</table>\n<p>3292 rows × 17 columns</p>\n</div>"
     },
     "execution_count": 59,
     "metadata": {},
     "output_type": "execute_result"
    }
   ],
   "source": [
    "oecd_bli_2015_url = \"https://drive.google.com/file/d/1-Hr5ptxnhwbC5iLSqwK3eV3ZiHUIRHPy/view?usp=sharing\" # oecd_bli_2015.csv 공유링크\n",
    "oecd_bli_2015_filepath = \"https://drive.google.com/uc?id=\" + oecd_bli_2015_url.split('/')[-2]\n",
    "oecd_bli_2015 = pd.read_csv(oecd_bli_2015_filepath, thousands=',')\n",
    "oecd_bli_2015"
   ],
   "metadata": {
    "collapsed": false,
    "ExecuteTime": {
     "start_time": "2023-04-23T03:39:59.612795Z",
     "end_time": "2023-04-23T03:40:01.405011Z"
    }
   }
  },
  {
   "cell_type": "markdown",
   "source": [
    "전체 인구를 대상으로하는 TOT 기준에 포함된 데이터만 추출하겠습니다."
   ],
   "metadata": {
    "collapsed": false
   }
  },
  {
   "cell_type": "code",
   "execution_count": 60,
   "outputs": [
    {
     "data": {
      "text/plain": "     LOCATION         Country INDICATOR   \n0         AUS       Australia   HO_BASE  \\\n1         AUT         Austria   HO_BASE   \n2         BEL         Belgium   HO_BASE   \n3         CAN          Canada   HO_BASE   \n4         CZE  Czech Republic   HO_BASE   \n...       ...             ...       ...   \n3213      EST         Estonia   WL_TNOW   \n3214      ISR          Israel   WL_TNOW   \n3215      RUS          Russia   WL_TNOW   \n3216      SVN        Slovenia   WL_TNOW   \n3217     OECD    OECD - Total   WL_TNOW   \n\n                                      Indicator MEASURE Measure INEQUALITY   \n0            Dwellings without basic facilities       L   Value        TOT  \\\n1            Dwellings without basic facilities       L   Value        TOT   \n2            Dwellings without basic facilities       L   Value        TOT   \n3            Dwellings without basic facilities       L   Value        TOT   \n4            Dwellings without basic facilities       L   Value        TOT   \n...                                         ...     ...     ...        ...   \n3213  Time devoted to leisure and personal care       L   Value        TOT   \n3214  Time devoted to leisure and personal care       L   Value        TOT   \n3215  Time devoted to leisure and personal care       L   Value        TOT   \n3216  Time devoted to leisure and personal care       L   Value        TOT   \n3217  Time devoted to leisure and personal care       L   Value        TOT   \n\n     Inequality Unit Code        Unit  PowerCode Code PowerCode   \n0         Total        PC  Percentage               0     units  \\\n1         Total        PC  Percentage               0     units   \n2         Total        PC  Percentage               0     units   \n3         Total        PC  Percentage               0     units   \n4         Total        PC  Percentage               0     units   \n...         ...       ...         ...             ...       ...   \n3213      Total      HOUR       Hours               0     units   \n3214      Total      HOUR       Hours               0     units   \n3215      Total      HOUR       Hours               0     units   \n3216      Total      HOUR       Hours               0     units   \n3217      Total      HOUR       Hours               0     units   \n\n      Reference Period Code  Reference Period  Value Flag Codes   \n0                       NaN               NaN   1.10          E  \\\n1                       NaN               NaN   1.00        NaN   \n2                       NaN               NaN   2.00        NaN   \n3                       NaN               NaN   0.20        NaN   \n4                       NaN               NaN   0.90        NaN   \n...                     ...               ...    ...        ...   \n3213                    NaN               NaN  14.90        NaN   \n3214                    NaN               NaN  14.48          E   \n3215                    NaN               NaN  14.97          E   \n3216                    NaN               NaN  14.62        NaN   \n3217                    NaN               NaN  14.97        NaN   \n\n                Flags  \n0     Estimated value  \n1                 NaN  \n2                 NaN  \n3                 NaN  \n4                 NaN  \n...               ...  \n3213              NaN  \n3214  Estimated value  \n3215  Estimated value  \n3216              NaN  \n3217              NaN  \n\n[888 rows x 17 columns]",
      "text/html": "<div>\n<style scoped>\n    .dataframe tbody tr th:only-of-type {\n        vertical-align: middle;\n    }\n\n    .dataframe tbody tr th {\n        vertical-align: top;\n    }\n\n    .dataframe thead th {\n        text-align: right;\n    }\n</style>\n<table border=\"1\" class=\"dataframe\">\n  <thead>\n    <tr style=\"text-align: right;\">\n      <th></th>\n      <th>LOCATION</th>\n      <th>Country</th>\n      <th>INDICATOR</th>\n      <th>Indicator</th>\n      <th>MEASURE</th>\n      <th>Measure</th>\n      <th>INEQUALITY</th>\n      <th>Inequality</th>\n      <th>Unit Code</th>\n      <th>Unit</th>\n      <th>PowerCode Code</th>\n      <th>PowerCode</th>\n      <th>Reference Period Code</th>\n      <th>Reference Period</th>\n      <th>Value</th>\n      <th>Flag Codes</th>\n      <th>Flags</th>\n    </tr>\n  </thead>\n  <tbody>\n    <tr>\n      <th>0</th>\n      <td>AUS</td>\n      <td>Australia</td>\n      <td>HO_BASE</td>\n      <td>Dwellings without basic facilities</td>\n      <td>L</td>\n      <td>Value</td>\n      <td>TOT</td>\n      <td>Total</td>\n      <td>PC</td>\n      <td>Percentage</td>\n      <td>0</td>\n      <td>units</td>\n      <td>NaN</td>\n      <td>NaN</td>\n      <td>1.10</td>\n      <td>E</td>\n      <td>Estimated value</td>\n    </tr>\n    <tr>\n      <th>1</th>\n      <td>AUT</td>\n      <td>Austria</td>\n      <td>HO_BASE</td>\n      <td>Dwellings without basic facilities</td>\n      <td>L</td>\n      <td>Value</td>\n      <td>TOT</td>\n      <td>Total</td>\n      <td>PC</td>\n      <td>Percentage</td>\n      <td>0</td>\n      <td>units</td>\n      <td>NaN</td>\n      <td>NaN</td>\n      <td>1.00</td>\n      <td>NaN</td>\n      <td>NaN</td>\n    </tr>\n    <tr>\n      <th>2</th>\n      <td>BEL</td>\n      <td>Belgium</td>\n      <td>HO_BASE</td>\n      <td>Dwellings without basic facilities</td>\n      <td>L</td>\n      <td>Value</td>\n      <td>TOT</td>\n      <td>Total</td>\n      <td>PC</td>\n      <td>Percentage</td>\n      <td>0</td>\n      <td>units</td>\n      <td>NaN</td>\n      <td>NaN</td>\n      <td>2.00</td>\n      <td>NaN</td>\n      <td>NaN</td>\n    </tr>\n    <tr>\n      <th>3</th>\n      <td>CAN</td>\n      <td>Canada</td>\n      <td>HO_BASE</td>\n      <td>Dwellings without basic facilities</td>\n      <td>L</td>\n      <td>Value</td>\n      <td>TOT</td>\n      <td>Total</td>\n      <td>PC</td>\n      <td>Percentage</td>\n      <td>0</td>\n      <td>units</td>\n      <td>NaN</td>\n      <td>NaN</td>\n      <td>0.20</td>\n      <td>NaN</td>\n      <td>NaN</td>\n    </tr>\n    <tr>\n      <th>4</th>\n      <td>CZE</td>\n      <td>Czech Republic</td>\n      <td>HO_BASE</td>\n      <td>Dwellings without basic facilities</td>\n      <td>L</td>\n      <td>Value</td>\n      <td>TOT</td>\n      <td>Total</td>\n      <td>PC</td>\n      <td>Percentage</td>\n      <td>0</td>\n      <td>units</td>\n      <td>NaN</td>\n      <td>NaN</td>\n      <td>0.90</td>\n      <td>NaN</td>\n      <td>NaN</td>\n    </tr>\n    <tr>\n      <th>...</th>\n      <td>...</td>\n      <td>...</td>\n      <td>...</td>\n      <td>...</td>\n      <td>...</td>\n      <td>...</td>\n      <td>...</td>\n      <td>...</td>\n      <td>...</td>\n      <td>...</td>\n      <td>...</td>\n      <td>...</td>\n      <td>...</td>\n      <td>...</td>\n      <td>...</td>\n      <td>...</td>\n      <td>...</td>\n    </tr>\n    <tr>\n      <th>3213</th>\n      <td>EST</td>\n      <td>Estonia</td>\n      <td>WL_TNOW</td>\n      <td>Time devoted to leisure and personal care</td>\n      <td>L</td>\n      <td>Value</td>\n      <td>TOT</td>\n      <td>Total</td>\n      <td>HOUR</td>\n      <td>Hours</td>\n      <td>0</td>\n      <td>units</td>\n      <td>NaN</td>\n      <td>NaN</td>\n      <td>14.90</td>\n      <td>NaN</td>\n      <td>NaN</td>\n    </tr>\n    <tr>\n      <th>3214</th>\n      <td>ISR</td>\n      <td>Israel</td>\n      <td>WL_TNOW</td>\n      <td>Time devoted to leisure and personal care</td>\n      <td>L</td>\n      <td>Value</td>\n      <td>TOT</td>\n      <td>Total</td>\n      <td>HOUR</td>\n      <td>Hours</td>\n      <td>0</td>\n      <td>units</td>\n      <td>NaN</td>\n      <td>NaN</td>\n      <td>14.48</td>\n      <td>E</td>\n      <td>Estimated value</td>\n    </tr>\n    <tr>\n      <th>3215</th>\n      <td>RUS</td>\n      <td>Russia</td>\n      <td>WL_TNOW</td>\n      <td>Time devoted to leisure and personal care</td>\n      <td>L</td>\n      <td>Value</td>\n      <td>TOT</td>\n      <td>Total</td>\n      <td>HOUR</td>\n      <td>Hours</td>\n      <td>0</td>\n      <td>units</td>\n      <td>NaN</td>\n      <td>NaN</td>\n      <td>14.97</td>\n      <td>E</td>\n      <td>Estimated value</td>\n    </tr>\n    <tr>\n      <th>3216</th>\n      <td>SVN</td>\n      <td>Slovenia</td>\n      <td>WL_TNOW</td>\n      <td>Time devoted to leisure and personal care</td>\n      <td>L</td>\n      <td>Value</td>\n      <td>TOT</td>\n      <td>Total</td>\n      <td>HOUR</td>\n      <td>Hours</td>\n      <td>0</td>\n      <td>units</td>\n      <td>NaN</td>\n      <td>NaN</td>\n      <td>14.62</td>\n      <td>NaN</td>\n      <td>NaN</td>\n    </tr>\n    <tr>\n      <th>3217</th>\n      <td>OECD</td>\n      <td>OECD - Total</td>\n      <td>WL_TNOW</td>\n      <td>Time devoted to leisure and personal care</td>\n      <td>L</td>\n      <td>Value</td>\n      <td>TOT</td>\n      <td>Total</td>\n      <td>HOUR</td>\n      <td>Hours</td>\n      <td>0</td>\n      <td>units</td>\n      <td>NaN</td>\n      <td>NaN</td>\n      <td>14.97</td>\n      <td>NaN</td>\n      <td>NaN</td>\n    </tr>\n  </tbody>\n</table>\n<p>888 rows × 17 columns</p>\n</div>"
     },
     "execution_count": 60,
     "metadata": {},
     "output_type": "execute_result"
    }
   ],
   "source": [
    "oecd_bli_2015 = oecd_bli_2015[oecd_bli_2015[\"INEQUALITY\"] == \"TOT\"]\n",
    "oecd_bli_2015"
   ],
   "metadata": {
    "collapsed": false,
    "ExecuteTime": {
     "start_time": "2023-04-23T03:40:01.393043Z",
     "end_time": "2023-04-23T03:40:01.418974Z"
    }
   }
  },
  {
   "cell_type": "markdown",
   "source": [
    "데이터프레임 객체의 pivot() 메서드를 이용하여 'Indicator'의 항목에 대한 각 국가별 수치만을 추출하기 위해 국가명 <br>\n",
    "('Country' 열의 항목)을 행의 인덱스 이름으로, 'Indicator'의 항목을 열의 인덱스 이름으로 사용하면서 해당 행과 열의<br>\n",
    "항목에는 'Value'열에 포합된 값을 사용하는 데이터프레임을 생성하겠습니다."
   ],
   "metadata": {
    "collapsed": false
   }
  },
  {
   "cell_type": "code",
   "execution_count": 61,
   "outputs": [
    {
     "data": {
      "text/plain": "Indicator        Air pollution  Assault rate  Consultation on rule-making   \nCountry                                                                     \nAustralia                 13.0           2.1                         10.5  \\\nAustria                   27.0           3.4                          7.1   \nBelgium                   21.0           6.6                          4.5   \nBrazil                    18.0           7.9                          4.0   \nCanada                    15.0           1.3                         10.5   \nChile                     46.0           6.9                          2.0   \nCzech Republic            16.0           2.8                          6.8   \nDenmark                   15.0           3.9                          7.0   \nEstonia                    9.0           5.5                          3.3   \nFinland                   15.0           2.4                          9.0   \nFrance                    12.0           5.0                          3.5   \nGermany                   16.0           3.6                          4.5   \nGreece                    27.0           3.7                          6.5   \nHungary                   15.0           3.6                          7.9   \nIceland                   18.0           2.7                          5.1   \nIreland                   13.0           2.6                          9.0   \nIsrael                    21.0           6.4                          2.5   \nItaly                     21.0           4.7                          5.0   \nJapan                     24.0           1.4                          7.3   \nKorea                     30.0           2.1                         10.4   \nLuxembourg                12.0           4.3                          6.0   \nMexico                    30.0          12.8                          9.0   \nNetherlands               30.0           4.9                          6.1   \nNew Zealand               11.0           2.2                         10.3   \nNorway                    16.0           3.3                          8.1   \nOECD - Total              20.0           3.9                          7.3   \nPoland                    33.0           1.4                         10.8   \nPortugal                  18.0           5.7                          6.5   \nRussia                    15.0           3.8                          2.5   \nSlovak Republic           13.0           3.0                          6.6   \nSlovenia                  26.0           3.9                         10.3   \nSpain                     24.0           4.2                          7.3   \nSweden                    10.0           5.1                         10.9   \nSwitzerland               20.0           4.2                          8.4   \nTurkey                    35.0           5.0                          5.5   \nUnited Kingdom            13.0           1.9                         11.5   \nUnited States             18.0           1.5                          8.3   \n\nIndicator        Dwellings without basic facilities  Educational attainment   \nCountry                                                                       \nAustralia                                       1.1                    76.0  \\\nAustria                                         1.0                    83.0   \nBelgium                                         2.0                    72.0   \nBrazil                                          6.7                    45.0   \nCanada                                          0.2                    89.0   \nChile                                           9.4                    57.0   \nCzech Republic                                  0.9                    92.0   \nDenmark                                         0.9                    78.0   \nEstonia                                         8.1                    90.0   \nFinland                                         0.6                    85.0   \nFrance                                          0.5                    73.0   \nGermany                                         0.1                    86.0   \nGreece                                          0.7                    68.0   \nHungary                                         4.8                    82.0   \nIceland                                         0.4                    71.0   \nIreland                                         0.2                    75.0   \nIsrael                                          3.7                    85.0   \nItaly                                           1.1                    57.0   \nJapan                                           6.4                    94.0   \nKorea                                           4.2                    82.0   \nLuxembourg                                      0.1                    78.0   \nMexico                                          4.2                    37.0   \nNetherlands                                     0.0                    73.0   \nNew Zealand                                     0.2                    74.0   \nNorway                                          0.3                    82.0   \nOECD - Total                                    2.4                    75.0   \nPoland                                          3.2                    90.0   \nPortugal                                        0.9                    38.0   \nRussia                                         15.1                    94.0   \nSlovak Republic                                 0.6                    92.0   \nSlovenia                                        0.5                    85.0   \nSpain                                           0.1                    55.0   \nSweden                                          0.0                    88.0   \nSwitzerland                                     0.0                    86.0   \nTurkey                                         12.7                    34.0   \nUnited Kingdom                                  0.2                    78.0   \nUnited States                                   0.1                    89.0   \n\nIndicator        Employees working very long hours  Employment rate   \nCountry                                                               \nAustralia                                    14.02             72.0  \\\nAustria                                       7.61             72.0   \nBelgium                                       4.57             62.0   \nBrazil                                       10.41             67.0   \nCanada                                        3.94             72.0   \nChile                                        15.42             62.0   \nCzech Republic                                6.98             68.0   \nDenmark                                       2.03             73.0   \nEstonia                                       3.30             68.0   \nFinland                                       3.58             69.0   \nFrance                                        8.15             64.0   \nGermany                                       5.25             73.0   \nGreece                                        6.16             49.0   \nHungary                                       3.19             58.0   \nIceland                                      12.25             82.0   \nIreland                                       4.20             60.0   \nIsrael                                       16.03             67.0   \nItaly                                         3.66             56.0   \nJapan                                        22.26             72.0   \nKorea                                        18.72             64.0   \nLuxembourg                                    3.47             66.0   \nMexico                                       28.83             61.0   \nNetherlands                                   0.45             74.0   \nNew Zealand                                  13.87             73.0   \nNorway                                        2.82             75.0   \nOECD - Total                                 12.51             65.0   \nPoland                                        7.41             60.0   \nPortugal                                      9.62             61.0   \nRussia                                        0.16             69.0   \nSlovak Republic                               7.02             60.0   \nSlovenia                                      5.63             63.0   \nSpain                                         5.89             56.0   \nSweden                                        1.13             74.0   \nSwitzerland                                   6.72             80.0   \nTurkey                                       40.86             50.0   \nUnited Kingdom                               12.70             71.0   \nUnited States                                11.30             67.0   \n\nIndicator        Homicide rate  Household net adjusted disposable income   \nCountry                                                                    \nAustralia                  0.8                                   31588.0  \\\nAustria                    0.4                                   31173.0   \nBelgium                    1.1                                   28307.0   \nBrazil                    25.5                                   11664.0   \nCanada                     1.5                                   29365.0   \nChile                      4.4                                   14533.0   \nCzech Republic             0.8                                   18404.0   \nDenmark                    0.3                                   26491.0   \nEstonia                    4.8                                   15167.0   \nFinland                    1.4                                   27927.0   \nFrance                     0.6                                   28799.0   \nGermany                    0.5                                   31252.0   \nGreece                     1.6                                   18575.0   \nHungary                    1.3                                   15442.0   \nIceland                    0.3                                   23965.0   \nIreland                    0.8                                   23917.0   \nIsrael                     2.3                                   22104.0   \nItaly                      0.7                                   25166.0   \nJapan                      0.3                                   26111.0   \nKorea                      1.1                                   19510.0   \nLuxembourg                 0.4                                   38951.0   \nMexico                    23.4                                   13085.0   \nNetherlands                0.9                                   27888.0   \nNew Zealand                1.2                                   23815.0   \nNorway                     0.6                                   33492.0   \nOECD - Total               4.0                                   25908.0   \nPoland                     0.9                                   17852.0   \nPortugal                   1.1                                   20086.0   \nRussia                    12.8                                   19292.0   \nSlovak Republic            1.2                                   17503.0   \nSlovenia                   0.4                                   19326.0   \nSpain                      0.6                                   22477.0   \nSweden                     0.7                                   29185.0   \nSwitzerland                0.5                                   33491.0   \nTurkey                     1.2                                   14095.0   \nUnited Kingdom             0.3                                   27029.0   \nUnited States              5.2                                   41355.0   \n\nIndicator        Household net financial wealth  ...   \nCountry                                          ...   \nAustralia                               47657.0  ...  \\\nAustria                                 49887.0  ...   \nBelgium                                 83876.0  ...   \nBrazil                                   6844.0  ...   \nCanada                                  67913.0  ...   \nChile                                   17733.0  ...   \nCzech Republic                          17299.0  ...   \nDenmark                                 44488.0  ...   \nEstonia                                  7680.0  ...   \nFinland                                 18761.0  ...   \nFrance                                  48741.0  ...   \nGermany                                 50394.0  ...   \nGreece                                  14579.0  ...   \nHungary                                 13277.0  ...   \nIceland                                 43045.0  ...   \nIreland                                 31580.0  ...   \nIsrael                                  52933.0  ...   \nItaly                                   54987.0  ...   \nJapan                                   86764.0  ...   \nKorea                                   29091.0  ...   \nLuxembourg                              61765.0  ...   \nMexico                                   9056.0  ...   \nNetherlands                             77961.0  ...   \nNew Zealand                             28290.0  ...   \nNorway                                   8797.0  ...   \nOECD - Total                            67139.0  ...   \nPoland                                  10919.0  ...   \nPortugal                                31245.0  ...   \nRussia                                   3412.0  ...   \nSlovak Republic                          8663.0  ...   \nSlovenia                                18465.0  ...   \nSpain                                   24774.0  ...   \nSweden                                  60328.0  ...   \nSwitzerland                            108823.0  ...   \nTurkey                                   3251.0  ...   \nUnited Kingdom                          60778.0  ...   \nUnited States                          145769.0  ...   \n\nIndicator        Long-term unemployment rate  Personal earnings   \nCountry                                                           \nAustralia                               1.08            50449.0  \\\nAustria                                 1.19            45199.0   \nBelgium                                 3.88            48082.0   \nBrazil                                  1.97            17177.0   \nCanada                                  0.90            46911.0   \nChile                                   1.59            22101.0   \nCzech Republic                          3.12            20338.0   \nDenmark                                 1.78            48347.0   \nEstonia                                 3.82            18944.0   \nFinland                                 1.73            40060.0   \nFrance                                  3.99            40242.0   \nGermany                                 2.37            43682.0   \nGreece                                 18.39            25503.0   \nHungary                                 5.10            20948.0   \nIceland                                 1.18            55716.0   \nIreland                                 8.39            49506.0   \nIsrael                                  0.79            28817.0   \nItaly                                   6.94            34561.0   \nJapan                                   1.67            35405.0   \nKorea                                   0.01            36354.0   \nLuxembourg                              1.78            56021.0   \nMexico                                  0.08            16193.0   \nNetherlands                             2.40            47590.0   \nNew Zealand                             0.75            35609.0   \nNorway                                  0.32            50282.0   \nOECD - Total                            2.79            36118.0   \nPoland                                  3.77            22655.0   \nPortugal                                9.11            23688.0   \nRussia                                  1.70            20885.0   \nSlovak Republic                         9.46            20307.0   \nSlovenia                                5.15            32037.0   \nSpain                                  12.96            34824.0   \nSweden                                  1.37            40818.0   \nSwitzerland                             1.46            54236.0   \nTurkey                                  2.37            16919.0   \nUnited Kingdom                          2.77            41192.0   \nUnited States                           1.91            56340.0   \n\nIndicator        Quality of support network  Rooms per person   \nCountry                                                         \nAustralia                              92.0               2.3  \\\nAustria                                89.0               1.6   \nBelgium                                94.0               2.2   \nBrazil                                 90.0               1.6   \nCanada                                 92.0               2.5   \nChile                                  86.0               1.2   \nCzech Republic                         85.0               1.4   \nDenmark                                95.0               1.9   \nEstonia                                89.0               1.5   \nFinland                                95.0               1.9   \nFrance                                 87.0               1.8   \nGermany                                94.0               1.8   \nGreece                                 83.0               1.2   \nHungary                                87.0               1.1   \nIceland                                96.0               1.5   \nIreland                                96.0               2.1   \nIsrael                                 87.0               1.2   \nItaly                                  90.0               1.4   \nJapan                                  89.0               1.8   \nKorea                                  72.0               1.4   \nLuxembourg                             87.0               2.0   \nMexico                                 77.0               1.0   \nNetherlands                            90.0               2.0   \nNew Zealand                            94.0               2.4   \nNorway                                 94.0               2.0   \nOECD - Total                           88.0               1.8   \nPoland                                 91.0               1.1   \nPortugal                               86.0               1.6   \nRussia                                 90.0               0.9   \nSlovak Republic                        90.0               1.1   \nSlovenia                               90.0               1.5   \nSpain                                  95.0               1.9   \nSweden                                 92.0               1.7   \nSwitzerland                            96.0               1.8   \nTurkey                                 86.0               1.1   \nUnited Kingdom                         91.0               1.9   \nUnited States                          90.0               2.4   \n\nIndicator        Self-reported health  Student skills   \nCountry                                                 \nAustralia                        85.0           512.0  \\\nAustria                          69.0           500.0   \nBelgium                          74.0           509.0   \nBrazil                           69.0           402.0   \nCanada                           89.0           522.0   \nChile                            59.0           436.0   \nCzech Republic                   60.0           500.0   \nDenmark                          72.0           498.0   \nEstonia                          54.0           526.0   \nFinland                          65.0           529.0   \nFrance                           67.0           500.0   \nGermany                          65.0           515.0   \nGreece                           74.0           466.0   \nHungary                          57.0           487.0   \nIceland                          77.0           484.0   \nIreland                          82.0           516.0   \nIsrael                           80.0           474.0   \nItaly                            66.0           490.0   \nJapan                            30.0           540.0   \nKorea                            35.0           542.0   \nLuxembourg                       72.0           490.0   \nMexico                           66.0           417.0   \nNetherlands                      76.0           519.0   \nNew Zealand                      90.0           509.0   \nNorway                           76.0           496.0   \nOECD - Total                     68.0           497.0   \nPoland                           58.0           521.0   \nPortugal                         46.0           488.0   \nRussia                           37.0           481.0   \nSlovak Republic                  66.0           472.0   \nSlovenia                         65.0           499.0   \nSpain                            72.0           490.0   \nSweden                           81.0           482.0   \nSwitzerland                      81.0           518.0   \nTurkey                           68.0           462.0   \nUnited Kingdom                   74.0           502.0   \nUnited States                    88.0           492.0   \n\nIndicator        Time devoted to leisure and personal care  Voter turnout   \nCountry                                                                     \nAustralia                                            14.41           93.0  \\\nAustria                                              14.46           75.0   \nBelgium                                              15.71           89.0   \nBrazil                                               14.97           79.0   \nCanada                                               14.25           61.0   \nChile                                                14.41           49.0   \nCzech Republic                                       14.98           59.0   \nDenmark                                              16.06           88.0   \nEstonia                                              14.90           64.0   \nFinland                                              14.89           69.0   \nFrance                                               15.33           80.0   \nGermany                                              15.31           72.0   \nGreece                                               14.91           64.0   \nHungary                                              15.04           62.0   \nIceland                                              14.61           81.0   \nIreland                                              15.19           70.0   \nIsrael                                               14.48           68.0   \nItaly                                                14.98           75.0   \nJapan                                                14.93           53.0   \nKorea                                                14.63           76.0   \nLuxembourg                                           15.12           91.0   \nMexico                                               13.89           63.0   \nNetherlands                                          15.44           75.0   \nNew Zealand                                          14.87           77.0   \nNorway                                               15.56           78.0   \nOECD - Total                                         14.97           68.0   \nPoland                                               14.20           55.0   \nPortugal                                             14.95           58.0   \nRussia                                               14.97           65.0   \nSlovak Republic                                      14.99           59.0   \nSlovenia                                             14.62           52.0   \nSpain                                                16.06           69.0   \nSweden                                               15.11           86.0   \nSwitzerland                                          14.98           49.0   \nTurkey                                               13.42           88.0   \nUnited Kingdom                                       14.83           66.0   \nUnited States                                        14.27           68.0   \n\nIndicator        Water quality  Years in education  \nCountry                                             \nAustralia                 91.0                19.4  \nAustria                   94.0                17.0  \nBelgium                   87.0                18.9  \nBrazil                    72.0                16.3  \nCanada                    91.0                17.2  \nChile                     73.0                16.5  \nCzech Republic            85.0                18.1  \nDenmark                   94.0                19.4  \nEstonia                   79.0                17.5  \nFinland                   94.0                19.7  \nFrance                    82.0                16.4  \nGermany                   95.0                18.2  \nGreece                    69.0                18.6  \nHungary                   77.0                17.6  \nIceland                   97.0                19.8  \nIreland                   80.0                17.6  \nIsrael                    68.0                15.8  \nItaly                     71.0                16.8  \nJapan                     85.0                16.3  \nKorea                     78.0                17.5  \nLuxembourg                86.0                15.1  \nMexico                    67.0                14.4  \nNetherlands               92.0                18.7  \nNew Zealand               89.0                18.1  \nNorway                    94.0                17.9  \nOECD - Total              81.0                17.7  \nPoland                    79.0                18.4  \nPortugal                  86.0                17.6  \nRussia                    56.0                16.0  \nSlovak Republic           81.0                16.3  \nSlovenia                  88.0                18.4  \nSpain                     71.0                17.6  \nSweden                    95.0                19.3  \nSwitzerland               96.0                17.3  \nTurkey                    62.0                16.4  \nUnited Kingdom            88.0                16.4  \nUnited States             85.0                17.2  \n\n[37 rows x 24 columns]",
      "text/html": "<div>\n<style scoped>\n    .dataframe tbody tr th:only-of-type {\n        vertical-align: middle;\n    }\n\n    .dataframe tbody tr th {\n        vertical-align: top;\n    }\n\n    .dataframe thead th {\n        text-align: right;\n    }\n</style>\n<table border=\"1\" class=\"dataframe\">\n  <thead>\n    <tr style=\"text-align: right;\">\n      <th>Indicator</th>\n      <th>Air pollution</th>\n      <th>Assault rate</th>\n      <th>Consultation on rule-making</th>\n      <th>Dwellings without basic facilities</th>\n      <th>Educational attainment</th>\n      <th>Employees working very long hours</th>\n      <th>Employment rate</th>\n      <th>Homicide rate</th>\n      <th>Household net adjusted disposable income</th>\n      <th>Household net financial wealth</th>\n      <th>...</th>\n      <th>Long-term unemployment rate</th>\n      <th>Personal earnings</th>\n      <th>Quality of support network</th>\n      <th>Rooms per person</th>\n      <th>Self-reported health</th>\n      <th>Student skills</th>\n      <th>Time devoted to leisure and personal care</th>\n      <th>Voter turnout</th>\n      <th>Water quality</th>\n      <th>Years in education</th>\n    </tr>\n    <tr>\n      <th>Country</th>\n      <th></th>\n      <th></th>\n      <th></th>\n      <th></th>\n      <th></th>\n      <th></th>\n      <th></th>\n      <th></th>\n      <th></th>\n      <th></th>\n      <th></th>\n      <th></th>\n      <th></th>\n      <th></th>\n      <th></th>\n      <th></th>\n      <th></th>\n      <th></th>\n      <th></th>\n      <th></th>\n      <th></th>\n    </tr>\n  </thead>\n  <tbody>\n    <tr>\n      <th>Australia</th>\n      <td>13.0</td>\n      <td>2.1</td>\n      <td>10.5</td>\n      <td>1.1</td>\n      <td>76.0</td>\n      <td>14.02</td>\n      <td>72.0</td>\n      <td>0.8</td>\n      <td>31588.0</td>\n      <td>47657.0</td>\n      <td>...</td>\n      <td>1.08</td>\n      <td>50449.0</td>\n      <td>92.0</td>\n      <td>2.3</td>\n      <td>85.0</td>\n      <td>512.0</td>\n      <td>14.41</td>\n      <td>93.0</td>\n      <td>91.0</td>\n      <td>19.4</td>\n    </tr>\n    <tr>\n      <th>Austria</th>\n      <td>27.0</td>\n      <td>3.4</td>\n      <td>7.1</td>\n      <td>1.0</td>\n      <td>83.0</td>\n      <td>7.61</td>\n      <td>72.0</td>\n      <td>0.4</td>\n      <td>31173.0</td>\n      <td>49887.0</td>\n      <td>...</td>\n      <td>1.19</td>\n      <td>45199.0</td>\n      <td>89.0</td>\n      <td>1.6</td>\n      <td>69.0</td>\n      <td>500.0</td>\n      <td>14.46</td>\n      <td>75.0</td>\n      <td>94.0</td>\n      <td>17.0</td>\n    </tr>\n    <tr>\n      <th>Belgium</th>\n      <td>21.0</td>\n      <td>6.6</td>\n      <td>4.5</td>\n      <td>2.0</td>\n      <td>72.0</td>\n      <td>4.57</td>\n      <td>62.0</td>\n      <td>1.1</td>\n      <td>28307.0</td>\n      <td>83876.0</td>\n      <td>...</td>\n      <td>3.88</td>\n      <td>48082.0</td>\n      <td>94.0</td>\n      <td>2.2</td>\n      <td>74.0</td>\n      <td>509.0</td>\n      <td>15.71</td>\n      <td>89.0</td>\n      <td>87.0</td>\n      <td>18.9</td>\n    </tr>\n    <tr>\n      <th>Brazil</th>\n      <td>18.0</td>\n      <td>7.9</td>\n      <td>4.0</td>\n      <td>6.7</td>\n      <td>45.0</td>\n      <td>10.41</td>\n      <td>67.0</td>\n      <td>25.5</td>\n      <td>11664.0</td>\n      <td>6844.0</td>\n      <td>...</td>\n      <td>1.97</td>\n      <td>17177.0</td>\n      <td>90.0</td>\n      <td>1.6</td>\n      <td>69.0</td>\n      <td>402.0</td>\n      <td>14.97</td>\n      <td>79.0</td>\n      <td>72.0</td>\n      <td>16.3</td>\n    </tr>\n    <tr>\n      <th>Canada</th>\n      <td>15.0</td>\n      <td>1.3</td>\n      <td>10.5</td>\n      <td>0.2</td>\n      <td>89.0</td>\n      <td>3.94</td>\n      <td>72.0</td>\n      <td>1.5</td>\n      <td>29365.0</td>\n      <td>67913.0</td>\n      <td>...</td>\n      <td>0.90</td>\n      <td>46911.0</td>\n      <td>92.0</td>\n      <td>2.5</td>\n      <td>89.0</td>\n      <td>522.0</td>\n      <td>14.25</td>\n      <td>61.0</td>\n      <td>91.0</td>\n      <td>17.2</td>\n    </tr>\n    <tr>\n      <th>Chile</th>\n      <td>46.0</td>\n      <td>6.9</td>\n      <td>2.0</td>\n      <td>9.4</td>\n      <td>57.0</td>\n      <td>15.42</td>\n      <td>62.0</td>\n      <td>4.4</td>\n      <td>14533.0</td>\n      <td>17733.0</td>\n      <td>...</td>\n      <td>1.59</td>\n      <td>22101.0</td>\n      <td>86.0</td>\n      <td>1.2</td>\n      <td>59.0</td>\n      <td>436.0</td>\n      <td>14.41</td>\n      <td>49.0</td>\n      <td>73.0</td>\n      <td>16.5</td>\n    </tr>\n    <tr>\n      <th>Czech Republic</th>\n      <td>16.0</td>\n      <td>2.8</td>\n      <td>6.8</td>\n      <td>0.9</td>\n      <td>92.0</td>\n      <td>6.98</td>\n      <td>68.0</td>\n      <td>0.8</td>\n      <td>18404.0</td>\n      <td>17299.0</td>\n      <td>...</td>\n      <td>3.12</td>\n      <td>20338.0</td>\n      <td>85.0</td>\n      <td>1.4</td>\n      <td>60.0</td>\n      <td>500.0</td>\n      <td>14.98</td>\n      <td>59.0</td>\n      <td>85.0</td>\n      <td>18.1</td>\n    </tr>\n    <tr>\n      <th>Denmark</th>\n      <td>15.0</td>\n      <td>3.9</td>\n      <td>7.0</td>\n      <td>0.9</td>\n      <td>78.0</td>\n      <td>2.03</td>\n      <td>73.0</td>\n      <td>0.3</td>\n      <td>26491.0</td>\n      <td>44488.0</td>\n      <td>...</td>\n      <td>1.78</td>\n      <td>48347.0</td>\n      <td>95.0</td>\n      <td>1.9</td>\n      <td>72.0</td>\n      <td>498.0</td>\n      <td>16.06</td>\n      <td>88.0</td>\n      <td>94.0</td>\n      <td>19.4</td>\n    </tr>\n    <tr>\n      <th>Estonia</th>\n      <td>9.0</td>\n      <td>5.5</td>\n      <td>3.3</td>\n      <td>8.1</td>\n      <td>90.0</td>\n      <td>3.30</td>\n      <td>68.0</td>\n      <td>4.8</td>\n      <td>15167.0</td>\n      <td>7680.0</td>\n      <td>...</td>\n      <td>3.82</td>\n      <td>18944.0</td>\n      <td>89.0</td>\n      <td>1.5</td>\n      <td>54.0</td>\n      <td>526.0</td>\n      <td>14.90</td>\n      <td>64.0</td>\n      <td>79.0</td>\n      <td>17.5</td>\n    </tr>\n    <tr>\n      <th>Finland</th>\n      <td>15.0</td>\n      <td>2.4</td>\n      <td>9.0</td>\n      <td>0.6</td>\n      <td>85.0</td>\n      <td>3.58</td>\n      <td>69.0</td>\n      <td>1.4</td>\n      <td>27927.0</td>\n      <td>18761.0</td>\n      <td>...</td>\n      <td>1.73</td>\n      <td>40060.0</td>\n      <td>95.0</td>\n      <td>1.9</td>\n      <td>65.0</td>\n      <td>529.0</td>\n      <td>14.89</td>\n      <td>69.0</td>\n      <td>94.0</td>\n      <td>19.7</td>\n    </tr>\n    <tr>\n      <th>France</th>\n      <td>12.0</td>\n      <td>5.0</td>\n      <td>3.5</td>\n      <td>0.5</td>\n      <td>73.0</td>\n      <td>8.15</td>\n      <td>64.0</td>\n      <td>0.6</td>\n      <td>28799.0</td>\n      <td>48741.0</td>\n      <td>...</td>\n      <td>3.99</td>\n      <td>40242.0</td>\n      <td>87.0</td>\n      <td>1.8</td>\n      <td>67.0</td>\n      <td>500.0</td>\n      <td>15.33</td>\n      <td>80.0</td>\n      <td>82.0</td>\n      <td>16.4</td>\n    </tr>\n    <tr>\n      <th>Germany</th>\n      <td>16.0</td>\n      <td>3.6</td>\n      <td>4.5</td>\n      <td>0.1</td>\n      <td>86.0</td>\n      <td>5.25</td>\n      <td>73.0</td>\n      <td>0.5</td>\n      <td>31252.0</td>\n      <td>50394.0</td>\n      <td>...</td>\n      <td>2.37</td>\n      <td>43682.0</td>\n      <td>94.0</td>\n      <td>1.8</td>\n      <td>65.0</td>\n      <td>515.0</td>\n      <td>15.31</td>\n      <td>72.0</td>\n      <td>95.0</td>\n      <td>18.2</td>\n    </tr>\n    <tr>\n      <th>Greece</th>\n      <td>27.0</td>\n      <td>3.7</td>\n      <td>6.5</td>\n      <td>0.7</td>\n      <td>68.0</td>\n      <td>6.16</td>\n      <td>49.0</td>\n      <td>1.6</td>\n      <td>18575.0</td>\n      <td>14579.0</td>\n      <td>...</td>\n      <td>18.39</td>\n      <td>25503.0</td>\n      <td>83.0</td>\n      <td>1.2</td>\n      <td>74.0</td>\n      <td>466.0</td>\n      <td>14.91</td>\n      <td>64.0</td>\n      <td>69.0</td>\n      <td>18.6</td>\n    </tr>\n    <tr>\n      <th>Hungary</th>\n      <td>15.0</td>\n      <td>3.6</td>\n      <td>7.9</td>\n      <td>4.8</td>\n      <td>82.0</td>\n      <td>3.19</td>\n      <td>58.0</td>\n      <td>1.3</td>\n      <td>15442.0</td>\n      <td>13277.0</td>\n      <td>...</td>\n      <td>5.10</td>\n      <td>20948.0</td>\n      <td>87.0</td>\n      <td>1.1</td>\n      <td>57.0</td>\n      <td>487.0</td>\n      <td>15.04</td>\n      <td>62.0</td>\n      <td>77.0</td>\n      <td>17.6</td>\n    </tr>\n    <tr>\n      <th>Iceland</th>\n      <td>18.0</td>\n      <td>2.7</td>\n      <td>5.1</td>\n      <td>0.4</td>\n      <td>71.0</td>\n      <td>12.25</td>\n      <td>82.0</td>\n      <td>0.3</td>\n      <td>23965.0</td>\n      <td>43045.0</td>\n      <td>...</td>\n      <td>1.18</td>\n      <td>55716.0</td>\n      <td>96.0</td>\n      <td>1.5</td>\n      <td>77.0</td>\n      <td>484.0</td>\n      <td>14.61</td>\n      <td>81.0</td>\n      <td>97.0</td>\n      <td>19.8</td>\n    </tr>\n    <tr>\n      <th>Ireland</th>\n      <td>13.0</td>\n      <td>2.6</td>\n      <td>9.0</td>\n      <td>0.2</td>\n      <td>75.0</td>\n      <td>4.20</td>\n      <td>60.0</td>\n      <td>0.8</td>\n      <td>23917.0</td>\n      <td>31580.0</td>\n      <td>...</td>\n      <td>8.39</td>\n      <td>49506.0</td>\n      <td>96.0</td>\n      <td>2.1</td>\n      <td>82.0</td>\n      <td>516.0</td>\n      <td>15.19</td>\n      <td>70.0</td>\n      <td>80.0</td>\n      <td>17.6</td>\n    </tr>\n    <tr>\n      <th>Israel</th>\n      <td>21.0</td>\n      <td>6.4</td>\n      <td>2.5</td>\n      <td>3.7</td>\n      <td>85.0</td>\n      <td>16.03</td>\n      <td>67.0</td>\n      <td>2.3</td>\n      <td>22104.0</td>\n      <td>52933.0</td>\n      <td>...</td>\n      <td>0.79</td>\n      <td>28817.0</td>\n      <td>87.0</td>\n      <td>1.2</td>\n      <td>80.0</td>\n      <td>474.0</td>\n      <td>14.48</td>\n      <td>68.0</td>\n      <td>68.0</td>\n      <td>15.8</td>\n    </tr>\n    <tr>\n      <th>Italy</th>\n      <td>21.0</td>\n      <td>4.7</td>\n      <td>5.0</td>\n      <td>1.1</td>\n      <td>57.0</td>\n      <td>3.66</td>\n      <td>56.0</td>\n      <td>0.7</td>\n      <td>25166.0</td>\n      <td>54987.0</td>\n      <td>...</td>\n      <td>6.94</td>\n      <td>34561.0</td>\n      <td>90.0</td>\n      <td>1.4</td>\n      <td>66.0</td>\n      <td>490.0</td>\n      <td>14.98</td>\n      <td>75.0</td>\n      <td>71.0</td>\n      <td>16.8</td>\n    </tr>\n    <tr>\n      <th>Japan</th>\n      <td>24.0</td>\n      <td>1.4</td>\n      <td>7.3</td>\n      <td>6.4</td>\n      <td>94.0</td>\n      <td>22.26</td>\n      <td>72.0</td>\n      <td>0.3</td>\n      <td>26111.0</td>\n      <td>86764.0</td>\n      <td>...</td>\n      <td>1.67</td>\n      <td>35405.0</td>\n      <td>89.0</td>\n      <td>1.8</td>\n      <td>30.0</td>\n      <td>540.0</td>\n      <td>14.93</td>\n      <td>53.0</td>\n      <td>85.0</td>\n      <td>16.3</td>\n    </tr>\n    <tr>\n      <th>Korea</th>\n      <td>30.0</td>\n      <td>2.1</td>\n      <td>10.4</td>\n      <td>4.2</td>\n      <td>82.0</td>\n      <td>18.72</td>\n      <td>64.0</td>\n      <td>1.1</td>\n      <td>19510.0</td>\n      <td>29091.0</td>\n      <td>...</td>\n      <td>0.01</td>\n      <td>36354.0</td>\n      <td>72.0</td>\n      <td>1.4</td>\n      <td>35.0</td>\n      <td>542.0</td>\n      <td>14.63</td>\n      <td>76.0</td>\n      <td>78.0</td>\n      <td>17.5</td>\n    </tr>\n    <tr>\n      <th>Luxembourg</th>\n      <td>12.0</td>\n      <td>4.3</td>\n      <td>6.0</td>\n      <td>0.1</td>\n      <td>78.0</td>\n      <td>3.47</td>\n      <td>66.0</td>\n      <td>0.4</td>\n      <td>38951.0</td>\n      <td>61765.0</td>\n      <td>...</td>\n      <td>1.78</td>\n      <td>56021.0</td>\n      <td>87.0</td>\n      <td>2.0</td>\n      <td>72.0</td>\n      <td>490.0</td>\n      <td>15.12</td>\n      <td>91.0</td>\n      <td>86.0</td>\n      <td>15.1</td>\n    </tr>\n    <tr>\n      <th>Mexico</th>\n      <td>30.0</td>\n      <td>12.8</td>\n      <td>9.0</td>\n      <td>4.2</td>\n      <td>37.0</td>\n      <td>28.83</td>\n      <td>61.0</td>\n      <td>23.4</td>\n      <td>13085.0</td>\n      <td>9056.0</td>\n      <td>...</td>\n      <td>0.08</td>\n      <td>16193.0</td>\n      <td>77.0</td>\n      <td>1.0</td>\n      <td>66.0</td>\n      <td>417.0</td>\n      <td>13.89</td>\n      <td>63.0</td>\n      <td>67.0</td>\n      <td>14.4</td>\n    </tr>\n    <tr>\n      <th>Netherlands</th>\n      <td>30.0</td>\n      <td>4.9</td>\n      <td>6.1</td>\n      <td>0.0</td>\n      <td>73.0</td>\n      <td>0.45</td>\n      <td>74.0</td>\n      <td>0.9</td>\n      <td>27888.0</td>\n      <td>77961.0</td>\n      <td>...</td>\n      <td>2.40</td>\n      <td>47590.0</td>\n      <td>90.0</td>\n      <td>2.0</td>\n      <td>76.0</td>\n      <td>519.0</td>\n      <td>15.44</td>\n      <td>75.0</td>\n      <td>92.0</td>\n      <td>18.7</td>\n    </tr>\n    <tr>\n      <th>New Zealand</th>\n      <td>11.0</td>\n      <td>2.2</td>\n      <td>10.3</td>\n      <td>0.2</td>\n      <td>74.0</td>\n      <td>13.87</td>\n      <td>73.0</td>\n      <td>1.2</td>\n      <td>23815.0</td>\n      <td>28290.0</td>\n      <td>...</td>\n      <td>0.75</td>\n      <td>35609.0</td>\n      <td>94.0</td>\n      <td>2.4</td>\n      <td>90.0</td>\n      <td>509.0</td>\n      <td>14.87</td>\n      <td>77.0</td>\n      <td>89.0</td>\n      <td>18.1</td>\n    </tr>\n    <tr>\n      <th>Norway</th>\n      <td>16.0</td>\n      <td>3.3</td>\n      <td>8.1</td>\n      <td>0.3</td>\n      <td>82.0</td>\n      <td>2.82</td>\n      <td>75.0</td>\n      <td>0.6</td>\n      <td>33492.0</td>\n      <td>8797.0</td>\n      <td>...</td>\n      <td>0.32</td>\n      <td>50282.0</td>\n      <td>94.0</td>\n      <td>2.0</td>\n      <td>76.0</td>\n      <td>496.0</td>\n      <td>15.56</td>\n      <td>78.0</td>\n      <td>94.0</td>\n      <td>17.9</td>\n    </tr>\n    <tr>\n      <th>OECD - Total</th>\n      <td>20.0</td>\n      <td>3.9</td>\n      <td>7.3</td>\n      <td>2.4</td>\n      <td>75.0</td>\n      <td>12.51</td>\n      <td>65.0</td>\n      <td>4.0</td>\n      <td>25908.0</td>\n      <td>67139.0</td>\n      <td>...</td>\n      <td>2.79</td>\n      <td>36118.0</td>\n      <td>88.0</td>\n      <td>1.8</td>\n      <td>68.0</td>\n      <td>497.0</td>\n      <td>14.97</td>\n      <td>68.0</td>\n      <td>81.0</td>\n      <td>17.7</td>\n    </tr>\n    <tr>\n      <th>Poland</th>\n      <td>33.0</td>\n      <td>1.4</td>\n      <td>10.8</td>\n      <td>3.2</td>\n      <td>90.0</td>\n      <td>7.41</td>\n      <td>60.0</td>\n      <td>0.9</td>\n      <td>17852.0</td>\n      <td>10919.0</td>\n      <td>...</td>\n      <td>3.77</td>\n      <td>22655.0</td>\n      <td>91.0</td>\n      <td>1.1</td>\n      <td>58.0</td>\n      <td>521.0</td>\n      <td>14.20</td>\n      <td>55.0</td>\n      <td>79.0</td>\n      <td>18.4</td>\n    </tr>\n    <tr>\n      <th>Portugal</th>\n      <td>18.0</td>\n      <td>5.7</td>\n      <td>6.5</td>\n      <td>0.9</td>\n      <td>38.0</td>\n      <td>9.62</td>\n      <td>61.0</td>\n      <td>1.1</td>\n      <td>20086.0</td>\n      <td>31245.0</td>\n      <td>...</td>\n      <td>9.11</td>\n      <td>23688.0</td>\n      <td>86.0</td>\n      <td>1.6</td>\n      <td>46.0</td>\n      <td>488.0</td>\n      <td>14.95</td>\n      <td>58.0</td>\n      <td>86.0</td>\n      <td>17.6</td>\n    </tr>\n    <tr>\n      <th>Russia</th>\n      <td>15.0</td>\n      <td>3.8</td>\n      <td>2.5</td>\n      <td>15.1</td>\n      <td>94.0</td>\n      <td>0.16</td>\n      <td>69.0</td>\n      <td>12.8</td>\n      <td>19292.0</td>\n      <td>3412.0</td>\n      <td>...</td>\n      <td>1.70</td>\n      <td>20885.0</td>\n      <td>90.0</td>\n      <td>0.9</td>\n      <td>37.0</td>\n      <td>481.0</td>\n      <td>14.97</td>\n      <td>65.0</td>\n      <td>56.0</td>\n      <td>16.0</td>\n    </tr>\n    <tr>\n      <th>Slovak Republic</th>\n      <td>13.0</td>\n      <td>3.0</td>\n      <td>6.6</td>\n      <td>0.6</td>\n      <td>92.0</td>\n      <td>7.02</td>\n      <td>60.0</td>\n      <td>1.2</td>\n      <td>17503.0</td>\n      <td>8663.0</td>\n      <td>...</td>\n      <td>9.46</td>\n      <td>20307.0</td>\n      <td>90.0</td>\n      <td>1.1</td>\n      <td>66.0</td>\n      <td>472.0</td>\n      <td>14.99</td>\n      <td>59.0</td>\n      <td>81.0</td>\n      <td>16.3</td>\n    </tr>\n    <tr>\n      <th>Slovenia</th>\n      <td>26.0</td>\n      <td>3.9</td>\n      <td>10.3</td>\n      <td>0.5</td>\n      <td>85.0</td>\n      <td>5.63</td>\n      <td>63.0</td>\n      <td>0.4</td>\n      <td>19326.0</td>\n      <td>18465.0</td>\n      <td>...</td>\n      <td>5.15</td>\n      <td>32037.0</td>\n      <td>90.0</td>\n      <td>1.5</td>\n      <td>65.0</td>\n      <td>499.0</td>\n      <td>14.62</td>\n      <td>52.0</td>\n      <td>88.0</td>\n      <td>18.4</td>\n    </tr>\n    <tr>\n      <th>Spain</th>\n      <td>24.0</td>\n      <td>4.2</td>\n      <td>7.3</td>\n      <td>0.1</td>\n      <td>55.0</td>\n      <td>5.89</td>\n      <td>56.0</td>\n      <td>0.6</td>\n      <td>22477.0</td>\n      <td>24774.0</td>\n      <td>...</td>\n      <td>12.96</td>\n      <td>34824.0</td>\n      <td>95.0</td>\n      <td>1.9</td>\n      <td>72.0</td>\n      <td>490.0</td>\n      <td>16.06</td>\n      <td>69.0</td>\n      <td>71.0</td>\n      <td>17.6</td>\n    </tr>\n    <tr>\n      <th>Sweden</th>\n      <td>10.0</td>\n      <td>5.1</td>\n      <td>10.9</td>\n      <td>0.0</td>\n      <td>88.0</td>\n      <td>1.13</td>\n      <td>74.0</td>\n      <td>0.7</td>\n      <td>29185.0</td>\n      <td>60328.0</td>\n      <td>...</td>\n      <td>1.37</td>\n      <td>40818.0</td>\n      <td>92.0</td>\n      <td>1.7</td>\n      <td>81.0</td>\n      <td>482.0</td>\n      <td>15.11</td>\n      <td>86.0</td>\n      <td>95.0</td>\n      <td>19.3</td>\n    </tr>\n    <tr>\n      <th>Switzerland</th>\n      <td>20.0</td>\n      <td>4.2</td>\n      <td>8.4</td>\n      <td>0.0</td>\n      <td>86.0</td>\n      <td>6.72</td>\n      <td>80.0</td>\n      <td>0.5</td>\n      <td>33491.0</td>\n      <td>108823.0</td>\n      <td>...</td>\n      <td>1.46</td>\n      <td>54236.0</td>\n      <td>96.0</td>\n      <td>1.8</td>\n      <td>81.0</td>\n      <td>518.0</td>\n      <td>14.98</td>\n      <td>49.0</td>\n      <td>96.0</td>\n      <td>17.3</td>\n    </tr>\n    <tr>\n      <th>Turkey</th>\n      <td>35.0</td>\n      <td>5.0</td>\n      <td>5.5</td>\n      <td>12.7</td>\n      <td>34.0</td>\n      <td>40.86</td>\n      <td>50.0</td>\n      <td>1.2</td>\n      <td>14095.0</td>\n      <td>3251.0</td>\n      <td>...</td>\n      <td>2.37</td>\n      <td>16919.0</td>\n      <td>86.0</td>\n      <td>1.1</td>\n      <td>68.0</td>\n      <td>462.0</td>\n      <td>13.42</td>\n      <td>88.0</td>\n      <td>62.0</td>\n      <td>16.4</td>\n    </tr>\n    <tr>\n      <th>United Kingdom</th>\n      <td>13.0</td>\n      <td>1.9</td>\n      <td>11.5</td>\n      <td>0.2</td>\n      <td>78.0</td>\n      <td>12.70</td>\n      <td>71.0</td>\n      <td>0.3</td>\n      <td>27029.0</td>\n      <td>60778.0</td>\n      <td>...</td>\n      <td>2.77</td>\n      <td>41192.0</td>\n      <td>91.0</td>\n      <td>1.9</td>\n      <td>74.0</td>\n      <td>502.0</td>\n      <td>14.83</td>\n      <td>66.0</td>\n      <td>88.0</td>\n      <td>16.4</td>\n    </tr>\n    <tr>\n      <th>United States</th>\n      <td>18.0</td>\n      <td>1.5</td>\n      <td>8.3</td>\n      <td>0.1</td>\n      <td>89.0</td>\n      <td>11.30</td>\n      <td>67.0</td>\n      <td>5.2</td>\n      <td>41355.0</td>\n      <td>145769.0</td>\n      <td>...</td>\n      <td>1.91</td>\n      <td>56340.0</td>\n      <td>90.0</td>\n      <td>2.4</td>\n      <td>88.0</td>\n      <td>492.0</td>\n      <td>14.27</td>\n      <td>68.0</td>\n      <td>85.0</td>\n      <td>17.2</td>\n    </tr>\n  </tbody>\n</table>\n<p>37 rows × 24 columns</p>\n</div>"
     },
     "execution_count": 61,
     "metadata": {},
     "output_type": "execute_result"
    }
   ],
   "source": [
    "oecd_bli_2015 = oecd_bli_2015.pivot(index=\"Country\", columns=\"Indicator\", values=\"Value\")\n",
    "oecd_bli_2015"
   ],
   "metadata": {
    "collapsed": false,
    "ExecuteTime": {
     "start_time": "2023-04-23T03:40:01.420969Z",
     "end_time": "2023-04-23T03:40:01.572863Z"
    }
   }
  },
  {
   "cell_type": "markdown",
   "source": [
    "1인당 GDP 데이터는 OECD 회원국 이외의 국가 데이터도 포함되어 있다. OECD 회원국으로 제한해서 1인당 GDP와 삶의<br>\n",
    "만족도 사이의 관계를 파악하기 위해 앞서 구한 두 개의 데이터 프레임을 하나로 병합한다."
   ],
   "metadata": {
    "collapsed": false
   }
  },
  {
   "cell_type": "code",
   "execution_count": 62,
   "outputs": [
    {
     "data": {
      "text/plain": "                GDP per capita (USD)  Life satisfaction\nCountry                                                \nAustralia               47636.319642                7.3\nAustria                 52798.099461                6.9\nBelgium                 49455.441337                6.9\nBrazil                  15064.176069                7.0\nCanada                  47522.140667                7.3\nChile                   24440.415264                6.7\nDenmark                 52892.646029                7.5\nEstonia                 31146.754522                5.6\nFinland                 45072.590215                7.4\nFrance                  43345.786428                6.5\nGermany                 51083.921662                7.0\nGreece                  28248.125956                4.8\nHungary                 27499.324466                4.9\nIceland                 52142.932807                7.5\nIreland                 72251.153536                7.0\nIsrael                  37554.598656                7.4\nItaly                   40247.829044                6.0\nJapan                   39777.531017                5.9\nLuxembourg             110446.086102                6.9\nMexico                  19268.914396                6.7\nNetherlands             52974.116220                7.3\nNew Zealand             41086.115302                7.3\nNorway                  62987.535863                7.4\nPoland                  27797.058423                5.8\nPortugal                31118.790670                5.1\nRussia                  25488.096120                6.0\nSlovenia                33805.030045                5.7\nKorea                   36049.193487                5.8\nSpain                   37377.068017                6.5\nSweden                  50928.962976                7.2\nSwitzerland             68025.920038                7.5\nTurkey                  25958.640762                5.6\nUnited Kingdom          44840.782644                6.8\nUnited States           58540.296093                7.2",
      "text/html": "<div>\n<style scoped>\n    .dataframe tbody tr th:only-of-type {\n        vertical-align: middle;\n    }\n\n    .dataframe tbody tr th {\n        vertical-align: top;\n    }\n\n    .dataframe thead th {\n        text-align: right;\n    }\n</style>\n<table border=\"1\" class=\"dataframe\">\n  <thead>\n    <tr style=\"text-align: right;\">\n      <th></th>\n      <th>GDP per capita (USD)</th>\n      <th>Life satisfaction</th>\n    </tr>\n    <tr>\n      <th>Country</th>\n      <th></th>\n      <th></th>\n    </tr>\n  </thead>\n  <tbody>\n    <tr>\n      <th>Australia</th>\n      <td>47636.319642</td>\n      <td>7.3</td>\n    </tr>\n    <tr>\n      <th>Austria</th>\n      <td>52798.099461</td>\n      <td>6.9</td>\n    </tr>\n    <tr>\n      <th>Belgium</th>\n      <td>49455.441337</td>\n      <td>6.9</td>\n    </tr>\n    <tr>\n      <th>Brazil</th>\n      <td>15064.176069</td>\n      <td>7.0</td>\n    </tr>\n    <tr>\n      <th>Canada</th>\n      <td>47522.140667</td>\n      <td>7.3</td>\n    </tr>\n    <tr>\n      <th>Chile</th>\n      <td>24440.415264</td>\n      <td>6.7</td>\n    </tr>\n    <tr>\n      <th>Denmark</th>\n      <td>52892.646029</td>\n      <td>7.5</td>\n    </tr>\n    <tr>\n      <th>Estonia</th>\n      <td>31146.754522</td>\n      <td>5.6</td>\n    </tr>\n    <tr>\n      <th>Finland</th>\n      <td>45072.590215</td>\n      <td>7.4</td>\n    </tr>\n    <tr>\n      <th>France</th>\n      <td>43345.786428</td>\n      <td>6.5</td>\n    </tr>\n    <tr>\n      <th>Germany</th>\n      <td>51083.921662</td>\n      <td>7.0</td>\n    </tr>\n    <tr>\n      <th>Greece</th>\n      <td>28248.125956</td>\n      <td>4.8</td>\n    </tr>\n    <tr>\n      <th>Hungary</th>\n      <td>27499.324466</td>\n      <td>4.9</td>\n    </tr>\n    <tr>\n      <th>Iceland</th>\n      <td>52142.932807</td>\n      <td>7.5</td>\n    </tr>\n    <tr>\n      <th>Ireland</th>\n      <td>72251.153536</td>\n      <td>7.0</td>\n    </tr>\n    <tr>\n      <th>Israel</th>\n      <td>37554.598656</td>\n      <td>7.4</td>\n    </tr>\n    <tr>\n      <th>Italy</th>\n      <td>40247.829044</td>\n      <td>6.0</td>\n    </tr>\n    <tr>\n      <th>Japan</th>\n      <td>39777.531017</td>\n      <td>5.9</td>\n    </tr>\n    <tr>\n      <th>Luxembourg</th>\n      <td>110446.086102</td>\n      <td>6.9</td>\n    </tr>\n    <tr>\n      <th>Mexico</th>\n      <td>19268.914396</td>\n      <td>6.7</td>\n    </tr>\n    <tr>\n      <th>Netherlands</th>\n      <td>52974.116220</td>\n      <td>7.3</td>\n    </tr>\n    <tr>\n      <th>New Zealand</th>\n      <td>41086.115302</td>\n      <td>7.3</td>\n    </tr>\n    <tr>\n      <th>Norway</th>\n      <td>62987.535863</td>\n      <td>7.4</td>\n    </tr>\n    <tr>\n      <th>Poland</th>\n      <td>27797.058423</td>\n      <td>5.8</td>\n    </tr>\n    <tr>\n      <th>Portugal</th>\n      <td>31118.790670</td>\n      <td>5.1</td>\n    </tr>\n    <tr>\n      <th>Russia</th>\n      <td>25488.096120</td>\n      <td>6.0</td>\n    </tr>\n    <tr>\n      <th>Slovenia</th>\n      <td>33805.030045</td>\n      <td>5.7</td>\n    </tr>\n    <tr>\n      <th>Korea</th>\n      <td>36049.193487</td>\n      <td>5.8</td>\n    </tr>\n    <tr>\n      <th>Spain</th>\n      <td>37377.068017</td>\n      <td>6.5</td>\n    </tr>\n    <tr>\n      <th>Sweden</th>\n      <td>50928.962976</td>\n      <td>7.2</td>\n    </tr>\n    <tr>\n      <th>Switzerland</th>\n      <td>68025.920038</td>\n      <td>7.5</td>\n    </tr>\n    <tr>\n      <th>Turkey</th>\n      <td>25958.640762</td>\n      <td>5.6</td>\n    </tr>\n    <tr>\n      <th>United Kingdom</th>\n      <td>44840.782644</td>\n      <td>6.8</td>\n    </tr>\n    <tr>\n      <th>United States</th>\n      <td>58540.296093</td>\n      <td>7.2</td>\n    </tr>\n  </tbody>\n</table>\n</div>"
     },
     "execution_count": 62,
     "metadata": {},
     "output_type": "execute_result"
    }
   ],
   "source": [
    "oecd_country_stats = pd.merge(left=gdp_per_capita['GDP per capita (USD)'],\n",
    "                              right=oecd_bli_2015['Life satisfaction'],\n",
    "                              left_index=True, right_index=True)\n",
    "oecd_country_stats"
   ],
   "metadata": {
    "collapsed": false,
    "ExecuteTime": {
     "start_time": "2023-04-23T03:40:01.464849Z",
     "end_time": "2023-04-23T03:40:01.610762Z"
    }
   }
  },
  {
   "cell_type": "markdown",
   "source": [
    "1인당 GDP와 삶의 만족도 사이의 선형 관계를 눈으로 확인하기 위해 국가를 1인당 GDP 기준 오름차순으로 정렬시킨다."
   ],
   "metadata": {
    "collapsed": false
   }
  },
  {
   "cell_type": "code",
   "execution_count": 63,
   "outputs": [
    {
     "data": {
      "text/plain": "(34, 2)"
     },
     "execution_count": 63,
     "metadata": {},
     "output_type": "execute_result"
    }
   ],
   "source": [
    "oecd_country_stats.sort_values(by=\"GDP per capita (USD)\", inplace=True)\n",
    "oecd_country_stats.shape"
   ],
   "metadata": {
    "collapsed": false,
    "ExecuteTime": {
     "start_time": "2023-04-23T03:40:01.480108Z",
     "end_time": "2023-04-23T03:40:01.611759Z"
    }
   }
  },
  {
   "cell_type": "markdown",
   "source": [
    "Brazil, Mexico, Chile, Norway, Switzerland, Ireland, Luxembourg 를 제외시키고 훈련을 시키겠습니다."
   ],
   "metadata": {
    "collapsed": false
   }
  },
  {
   "cell_type": "code",
   "execution_count": 64,
   "outputs": [
    {
     "data": {
      "text/plain": "[3,\n 4,\n 5,\n 6,\n 7,\n 8,\n 9,\n 10,\n 11,\n 12,\n 13,\n 14,\n 15,\n 16,\n 17,\n 18,\n 19,\n 20,\n 21,\n 22,\n 23,\n 24,\n 25,\n 26,\n 27,\n 28,\n 29]"
     },
     "execution_count": 64,
     "metadata": {},
     "output_type": "execute_result"
    }
   ],
   "source": [
    "omitted_indices = [0, 1, 2, 30, 31, 32, 33]\n",
    "kept_indices = list(set(range(34)) - set(omitted_indices))\n",
    "kept_indices"
   ],
   "metadata": {
    "collapsed": false,
    "ExecuteTime": {
     "start_time": "2023-04-23T03:40:01.496041Z",
     "end_time": "2023-04-23T03:40:01.611759Z"
    }
   }
  },
  {
   "cell_type": "code",
   "execution_count": 65,
   "outputs": [
    {
     "data": {
      "text/plain": "                GDP per capita (USD)  Life satisfaction\nCountry                                                \nRussia                  25488.096120                6.0\nTurkey                  25958.640762                5.6\nHungary                 27499.324466                4.9\nPoland                  27797.058423                5.8\nGreece                  28248.125956                4.8\nPortugal                31118.790670                5.1\nEstonia                 31146.754522                5.6\nSlovenia                33805.030045                5.7\nKorea                   36049.193487                5.8\nSpain                   37377.068017                6.5\nIsrael                  37554.598656                7.4\nJapan                   39777.531017                5.9\nItaly                   40247.829044                6.0\nNew Zealand             41086.115302                7.3\nFrance                  43345.786428                6.5\nUnited Kingdom          44840.782644                6.8\nFinland                 45072.590215                7.4\nCanada                  47522.140667                7.3\nAustralia               47636.319642                7.3\nBelgium                 49455.441337                6.9\nSweden                  50928.962976                7.2\nGermany                 51083.921662                7.0\nIceland                 52142.932807                7.5\nAustria                 52798.099461                6.9\nDenmark                 52892.646029                7.5\nNetherlands             52974.116220                7.3\nUnited States           58540.296093                7.2",
      "text/html": "<div>\n<style scoped>\n    .dataframe tbody tr th:only-of-type {\n        vertical-align: middle;\n    }\n\n    .dataframe tbody tr th {\n        vertical-align: top;\n    }\n\n    .dataframe thead th {\n        text-align: right;\n    }\n</style>\n<table border=\"1\" class=\"dataframe\">\n  <thead>\n    <tr style=\"text-align: right;\">\n      <th></th>\n      <th>GDP per capita (USD)</th>\n      <th>Life satisfaction</th>\n    </tr>\n    <tr>\n      <th>Country</th>\n      <th></th>\n      <th></th>\n    </tr>\n  </thead>\n  <tbody>\n    <tr>\n      <th>Russia</th>\n      <td>25488.096120</td>\n      <td>6.0</td>\n    </tr>\n    <tr>\n      <th>Turkey</th>\n      <td>25958.640762</td>\n      <td>5.6</td>\n    </tr>\n    <tr>\n      <th>Hungary</th>\n      <td>27499.324466</td>\n      <td>4.9</td>\n    </tr>\n    <tr>\n      <th>Poland</th>\n      <td>27797.058423</td>\n      <td>5.8</td>\n    </tr>\n    <tr>\n      <th>Greece</th>\n      <td>28248.125956</td>\n      <td>4.8</td>\n    </tr>\n    <tr>\n      <th>Portugal</th>\n      <td>31118.790670</td>\n      <td>5.1</td>\n    </tr>\n    <tr>\n      <th>Estonia</th>\n      <td>31146.754522</td>\n      <td>5.6</td>\n    </tr>\n    <tr>\n      <th>Slovenia</th>\n      <td>33805.030045</td>\n      <td>5.7</td>\n    </tr>\n    <tr>\n      <th>Korea</th>\n      <td>36049.193487</td>\n      <td>5.8</td>\n    </tr>\n    <tr>\n      <th>Spain</th>\n      <td>37377.068017</td>\n      <td>6.5</td>\n    </tr>\n    <tr>\n      <th>Israel</th>\n      <td>37554.598656</td>\n      <td>7.4</td>\n    </tr>\n    <tr>\n      <th>Japan</th>\n      <td>39777.531017</td>\n      <td>5.9</td>\n    </tr>\n    <tr>\n      <th>Italy</th>\n      <td>40247.829044</td>\n      <td>6.0</td>\n    </tr>\n    <tr>\n      <th>New Zealand</th>\n      <td>41086.115302</td>\n      <td>7.3</td>\n    </tr>\n    <tr>\n      <th>France</th>\n      <td>43345.786428</td>\n      <td>6.5</td>\n    </tr>\n    <tr>\n      <th>United Kingdom</th>\n      <td>44840.782644</td>\n      <td>6.8</td>\n    </tr>\n    <tr>\n      <th>Finland</th>\n      <td>45072.590215</td>\n      <td>7.4</td>\n    </tr>\n    <tr>\n      <th>Canada</th>\n      <td>47522.140667</td>\n      <td>7.3</td>\n    </tr>\n    <tr>\n      <th>Australia</th>\n      <td>47636.319642</td>\n      <td>7.3</td>\n    </tr>\n    <tr>\n      <th>Belgium</th>\n      <td>49455.441337</td>\n      <td>6.9</td>\n    </tr>\n    <tr>\n      <th>Sweden</th>\n      <td>50928.962976</td>\n      <td>7.2</td>\n    </tr>\n    <tr>\n      <th>Germany</th>\n      <td>51083.921662</td>\n      <td>7.0</td>\n    </tr>\n    <tr>\n      <th>Iceland</th>\n      <td>52142.932807</td>\n      <td>7.5</td>\n    </tr>\n    <tr>\n      <th>Austria</th>\n      <td>52798.099461</td>\n      <td>6.9</td>\n    </tr>\n    <tr>\n      <th>Denmark</th>\n      <td>52892.646029</td>\n      <td>7.5</td>\n    </tr>\n    <tr>\n      <th>Netherlands</th>\n      <td>52974.116220</td>\n      <td>7.3</td>\n    </tr>\n    <tr>\n      <th>United States</th>\n      <td>58540.296093</td>\n      <td>7.2</td>\n    </tr>\n  </tbody>\n</table>\n</div>"
     },
     "execution_count": 65,
     "metadata": {},
     "output_type": "execute_result"
    }
   ],
   "source": [
    "# 제외된 9개 국가의 1인당 GDP와 삶의 만족도 데이터\n",
    "missing_data = oecd_country_stats.iloc[omitted_indices]\n",
    "\n",
    "# 9개 국가를 제외한 국가들의 1인당 GDP와 삶의 만족도 데이터\n",
    "sample_data = oecd_country_stats.iloc[kept_indices]\n",
    "sample_data"
   ],
   "metadata": {
    "collapsed": false,
    "ExecuteTime": {
     "start_time": "2023-04-23T03:40:01.527983Z",
     "end_time": "2023-04-23T03:40:01.611759Z"
    }
   }
  },
  {
   "cell_type": "markdown",
   "source": [
    "1인당 GDP와 삶의 만족도 사이에 다음 선형 관계가 성립합니다.\n",
    "$$\n",
    "\\textit{Life Satisfaction} = \\theta_0 + \\theta_1 \\cdot \\textit{GDP per Capita}\n",
    "$$\n",
    "scikit-learn 라이브러리를 이용해 최적의 절편과 기울기를 계산하겠습니다."
   ],
   "metadata": {
    "collapsed": false
   }
  },
  {
   "cell_type": "code",
   "execution_count": 66,
   "outputs": [],
   "source": [
    "lin1 = linear_model.LinearRegression() #아직 훈련이 되지 않은 모델"
   ],
   "metadata": {
    "collapsed": false,
    "ExecuteTime": {
     "start_time": "2023-04-23T03:40:01.539950Z",
     "end_time": "2023-04-23T03:40:01.611759Z"
    }
   }
  },
  {
   "cell_type": "markdown",
   "source": [
    "훈련 셋을 지정하겠습니다. <br>\n",
    "입력 데이터: 1인당 GDP <br>\n",
    "출력 데이터: 삶의 만족도 <br>\n",
    "사이킷런의 선형회귀 모델이 어레이 형식의 입력 데이터 셋과 타깃 데이터 셋을 요구하므로 <br>\n",
    "넘파이의 c_함수를 활용해서 차원을 늘려주겠습니다."
   ],
   "metadata": {
    "collapsed": false
   }
  },
  {
   "cell_type": "code",
   "execution_count": 67,
   "outputs": [],
   "source": [
    "Xsample = np.c_[sample_data[\"GDP per capita (USD)\"]]\n",
    "Ysample = np.c_[sample_data[\"Life satisfaction\"]]"
   ],
   "metadata": {
    "collapsed": false,
    "ExecuteTime": {
     "start_time": "2023-04-23T03:40:01.555908Z",
     "end_time": "2023-04-23T03:40:01.612756Z"
    }
   }
  },
  {
   "cell_type": "markdown",
   "source": [
    "선형 모델의 fit() 메서드를 입력 데이터 셋과 타깃 데이터 셋을 인자로 사용해서 호출해 최적의 파라미터를 찾겠습니다."
   ],
   "metadata": {
    "collapsed": false
   }
  },
  {
   "cell_type": "code",
   "execution_count": 68,
   "outputs": [
    {
     "data": {
      "text/plain": "LinearRegression()",
      "text/html": "<style>#sk-container-id-3 {color: black;background-color: white;}#sk-container-id-3 pre{padding: 0;}#sk-container-id-3 div.sk-toggleable {background-color: white;}#sk-container-id-3 label.sk-toggleable__label {cursor: pointer;display: block;width: 100%;margin-bottom: 0;padding: 0.3em;box-sizing: border-box;text-align: center;}#sk-container-id-3 label.sk-toggleable__label-arrow:before {content: \"▸\";float: left;margin-right: 0.25em;color: #696969;}#sk-container-id-3 label.sk-toggleable__label-arrow:hover:before {color: black;}#sk-container-id-3 div.sk-estimator:hover label.sk-toggleable__label-arrow:before {color: black;}#sk-container-id-3 div.sk-toggleable__content {max-height: 0;max-width: 0;overflow: hidden;text-align: left;background-color: #f0f8ff;}#sk-container-id-3 div.sk-toggleable__content pre {margin: 0.2em;color: black;border-radius: 0.25em;background-color: #f0f8ff;}#sk-container-id-3 input.sk-toggleable__control:checked~div.sk-toggleable__content {max-height: 200px;max-width: 100%;overflow: auto;}#sk-container-id-3 input.sk-toggleable__control:checked~label.sk-toggleable__label-arrow:before {content: \"▾\";}#sk-container-id-3 div.sk-estimator input.sk-toggleable__control:checked~label.sk-toggleable__label {background-color: #d4ebff;}#sk-container-id-3 div.sk-label input.sk-toggleable__control:checked~label.sk-toggleable__label {background-color: #d4ebff;}#sk-container-id-3 input.sk-hidden--visually {border: 0;clip: rect(1px 1px 1px 1px);clip: rect(1px, 1px, 1px, 1px);height: 1px;margin: -1px;overflow: hidden;padding: 0;position: absolute;width: 1px;}#sk-container-id-3 div.sk-estimator {font-family: monospace;background-color: #f0f8ff;border: 1px dotted black;border-radius: 0.25em;box-sizing: border-box;margin-bottom: 0.5em;}#sk-container-id-3 div.sk-estimator:hover {background-color: #d4ebff;}#sk-container-id-3 div.sk-parallel-item::after {content: \"\";width: 100%;border-bottom: 1px solid gray;flex-grow: 1;}#sk-container-id-3 div.sk-label:hover label.sk-toggleable__label {background-color: #d4ebff;}#sk-container-id-3 div.sk-serial::before {content: \"\";position: absolute;border-left: 1px solid gray;box-sizing: border-box;top: 0;bottom: 0;left: 50%;z-index: 0;}#sk-container-id-3 div.sk-serial {display: flex;flex-direction: column;align-items: center;background-color: white;padding-right: 0.2em;padding-left: 0.2em;position: relative;}#sk-container-id-3 div.sk-item {position: relative;z-index: 1;}#sk-container-id-3 div.sk-parallel {display: flex;align-items: stretch;justify-content: center;background-color: white;position: relative;}#sk-container-id-3 div.sk-item::before, #sk-container-id-3 div.sk-parallel-item::before {content: \"\";position: absolute;border-left: 1px solid gray;box-sizing: border-box;top: 0;bottom: 0;left: 50%;z-index: -1;}#sk-container-id-3 div.sk-parallel-item {display: flex;flex-direction: column;z-index: 1;position: relative;background-color: white;}#sk-container-id-3 div.sk-parallel-item:first-child::after {align-self: flex-end;width: 50%;}#sk-container-id-3 div.sk-parallel-item:last-child::after {align-self: flex-start;width: 50%;}#sk-container-id-3 div.sk-parallel-item:only-child::after {width: 0;}#sk-container-id-3 div.sk-dashed-wrapped {border: 1px dashed gray;margin: 0 0.4em 0.5em 0.4em;box-sizing: border-box;padding-bottom: 0.4em;background-color: white;}#sk-container-id-3 div.sk-label label {font-family: monospace;font-weight: bold;display: inline-block;line-height: 1.2em;}#sk-container-id-3 div.sk-label-container {text-align: center;}#sk-container-id-3 div.sk-container {/* jupyter's `normalize.less` sets `[hidden] { display: none; }` but bootstrap.min.css set `[hidden] { display: none !important; }` so we also need the `!important` here to be able to override the default hidden behavior on the sphinx rendered scikit-learn.org. See: https://github.com/scikit-learn/scikit-learn/issues/21755 */display: inline-block !important;position: relative;}#sk-container-id-3 div.sk-text-repr-fallback {display: none;}</style><div id=\"sk-container-id-3\" class=\"sk-top-container\"><div class=\"sk-text-repr-fallback\"><pre>LinearRegression()</pre><b>In a Jupyter environment, please rerun this cell to show the HTML representation or trust the notebook. <br />On GitHub, the HTML representation is unable to render, please try loading this page with nbviewer.org.</b></div><div class=\"sk-container\" hidden><div class=\"sk-item\"><div class=\"sk-estimator sk-toggleable\"><input class=\"sk-toggleable__control sk-hidden--visually\" id=\"sk-estimator-id-3\" type=\"checkbox\" checked><label for=\"sk-estimator-id-3\" class=\"sk-toggleable__label sk-toggleable__label-arrow\">LinearRegression</label><div class=\"sk-toggleable__content\"><pre>LinearRegression()</pre></div></div></div></div></div>"
     },
     "execution_count": 68,
     "metadata": {},
     "output_type": "execute_result"
    }
   ],
   "source": [
    "lin1.fit(Xsample, Ysample)"
   ],
   "metadata": {
    "collapsed": false,
    "ExecuteTime": {
     "start_time": "2023-04-23T03:40:01.571865Z",
     "end_time": "2023-04-23T03:40:01.612756Z"
    }
   }
  },
  {
   "cell_type": "markdown",
   "source": [
    "훈련된 모델이 알아낸 최적 선형 모델의 절편과 기울기를 두 속성에 저장하겠습니다."
   ],
   "metadata": {
    "collapsed": false
   }
  },
  {
   "cell_type": "code",
   "execution_count": 69,
   "outputs": [
    {
     "name": "stdout",
     "output_type": "stream",
     "text": [
      "절편:\t 3.4940168404150898\n",
      "기울기:\t 7.269184070964762e-05\n"
     ]
    }
   ],
   "source": [
    "t0, t1 = lin1.intercept_[0], lin1.coef_[0][0]\n",
    "print(f\"절편:\\t {t0}\")\n",
    "print(f\"기울기:\\t {t1}\")"
   ],
   "metadata": {
    "collapsed": false,
    "ExecuteTime": {
     "start_time": "2023-04-23T03:40:01.586826Z",
     "end_time": "2023-04-23T03:40:01.683566Z"
    }
   }
  },
  {
   "cell_type": "markdown",
   "source": [
    "구해진 기울기와 절편을 이용하여 산점도와 함께 직선을 그리겠습니다."
   ],
   "metadata": {
    "collapsed": false
   }
  },
  {
   "cell_type": "code",
   "execution_count": 70,
   "outputs": [
    {
     "data": {
      "text/plain": "<Figure size 500x300 with 1 Axes>",
      "image/png": "[encoded data removed]"
     },
     "metadata": {},
     "output_type": "display_data"
    }
   ],
   "source": [
    "# 산점도\n",
    "sample_data.plot(kind='scatter', x=\"GDP per capita (USD)\", y=\"Life satisfaction\", figsize=(5,3))\n",
    "plt.xlabel(\"GDP per capita (USD)\")\n",
    "plt.axis([10000, 70000, 0, 10])\n",
    "\n",
    "# 직선 그리기\n",
    "X=np.linspace(0, 70000, 1000)\n",
    "plt.plot(X, t0 + t1*X, \"b\")\n",
    "\n",
    "#직선의 절편과 기울기 정보 명시\n",
    "plt.text(15000, 3.1, r\"$\\theta_0 = 3.49$\", fontsize=14, color=\"b\")\n",
    "plt.text(15000, 2.2, r\"$\\theta_1 = 7.27 \\times 10^{-5}$\", fontsize=14, color=\"b\")\n",
    "\n",
    "plt.show()"
   ],
   "metadata": {
    "collapsed": false,
    "ExecuteTime": {
     "start_time": "2023-04-23T03:40:01.600789Z",
     "end_time": "2023-04-23T03:40:02.106940Z"
    }
   }
  },
  {
   "cell_type": "markdown",
   "source": [
    "한 국가의 1인당 GDP가 알려졌을 때 훈련된 모델에 포함된 θ0와 θ1을 이용하여 해당 국가의 삶의 만족도를 예측하겠습니다. <br>\n",
    "Cyprus의 2015년 1인당 GDP 값을 입력으로 삶의 만족도 지수를 예측하겠습니다."
   ],
   "metadata": {
    "collapsed": false
   }
  },
  {
   "cell_type": "code",
   "execution_count": 71,
   "outputs": [
    {
     "data": {
      "text/plain": "34472.2985065115"
     },
     "execution_count": 71,
     "metadata": {},
     "output_type": "execute_result"
    }
   ],
   "source": [
    "cyprus_gdp_per_capita = gdp_per_capita.loc[\"Cyprus\"][\"GDP per capita (USD)\"]\n",
    "cyprus_gdp_per_capita"
   ],
   "metadata": {
    "collapsed": false,
    "ExecuteTime": {
     "start_time": "2023-04-23T03:40:01.750387Z",
     "end_time": "2023-04-23T03:40:02.130877Z"
    }
   }
  },
  {
   "cell_type": "markdown",
   "source": [
    "훈련된 모델의 predict() 메서드가 식을 이용하여 삶의 만족도를 계산합니다."
   ],
   "metadata": {
    "collapsed": false
   }
  },
  {
   "cell_type": "code",
   "execution_count": 72,
   "outputs": [
    {
     "data": {
      "text/plain": "5.999871672345847"
     },
     "execution_count": 72,
     "metadata": {},
     "output_type": "execute_result"
    }
   ],
   "source": [
    "cyprus_predicted_life_satisfaction = lin1.predict([[cyprus_gdp_per_capita]])[0, 0]\n",
    "cyprus_predicted_life_satisfaction"
   ],
   "metadata": {
    "collapsed": false,
    "ExecuteTime": {
     "start_time": "2023-04-23T03:40:01.767341Z",
     "end_time": "2023-04-23T03:40:02.130877Z"
    }
   }
  },
  {
   "cell_type": "markdown",
   "source": [
    "실제 삶의 만족도 지수는 5.63이라고 합니다. 5.99인 예측값과 비슷하다는 것을 알 수 있었습니다."
   ],
   "metadata": {
    "collapsed": false
   }
  }
 ],
 "metadata": {
  "kernelspec": {
   "display_name": "Python 3",
   "language": "python",
   "name": "python3"
  },
  "language_info": {
   "codemirror_mode": {
    "name": "ipython",
    "version": 2
   },
   "file_extension": ".py",
   "mimetype": "text/x-python",
   "name": "python",
   "nbconvert_exporter": "python",
   "pygments_lexer": "ipython2",
   "version": "2.7.6"
  }
 },
 "nbformat": 4,
 "nbformat_minor": 0
}
